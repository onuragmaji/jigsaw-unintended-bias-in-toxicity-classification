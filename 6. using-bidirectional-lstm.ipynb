{
 "cells": [
  {
   "cell_type": "code",
   "execution_count": 1,
   "metadata": {
    "_cell_guid": "b1076dfc-b9ad-4769-8c92-a6c4dae69d19",
    "_uuid": "8f2839f25d086af736a60e9eeb907d3b93b6e0e5"
   },
   "outputs": [],
   "source": [
    "import os\n",
    "import csv\n",
    "import pandas as pd\n",
    "import numpy as np\n",
    "import matplotlib.pyplot as plt\n",
    "import seaborn as sns\n",
    "import re\n",
    "\n",
    "import statsmodels.api as sm\n",
    "\n",
    "from sklearn.model_selection import train_test_split\n",
    "from sklearn.linear_model import LinearRegression\n",
    "from sklearn.feature_selection import RFE\n",
    "\n",
    "from sklearn.linear_model import RidgeCV, LassoCV, Ridge, Lasso\n",
    "\n",
    "from sklearn import metrics\n",
    "\n",
    "import time\n",
    "import pickle \n",
    "\n",
    "import pandas as pd"
   ]
  },
  {
   "cell_type": "markdown",
   "metadata": {},
   "source": [
    "## Calculate the final score"
   ]
  },
  {
   "cell_type": "markdown",
   "metadata": {},
   "source": [
    "## Evaluation Metric:\n",
    "\n",
    "Our goal to to reduce unintented bias as much as possible so we will use a special matric. \n",
    "\n",
    "we are refering the following information from <a href=\"https://www.kaggle.com/c/jigsaw-unintended-bias-in-toxicity-classification/overview/evaluation\" target=\"_blank\"><b>here</b></a>.\n",
    "\n",
    "We will use metric that combines several submetrics to balance overall performance with various aspects of unintended bias.\n",
    "\n",
    "\n",
    "<ol>\n",
    "<li><b>Overall AUC</b><br>\n",
    "   This is the ROC-AUC for the full evaluation set.</li><br><br>\n",
    "\n",
    "<li><b>Bias AUCs</b><br>\n",
    "   Here we calculate the ROC-AUC on three specific subsets of the test set for each identity, each capturing a different      aspect of unintended bias.<br><br>\n",
    "\n",
    "<ol type=\"a\"><li><b>Subgroup AUC:</b><br> \n",
    "       Here, we restrict the data set to only the examples that mention the specific identity subgroup. A low value in this metric means the model does a poor job of distinguishing between toxic and non-toxic comments that mention the identity.</li><br>\n",
    "<li><b>BPSN (Background Positive, Subgroup Negative) AUC:</b><br> \n",
    "       Here, we restrict the test set to the non-toxic examples that mention the identity and the toxic examples that do not. A low value in this metric means that the model confuses non-toxic examples that mention the identity with toxic examples that do not, likely meaning that the model predicts higher toxicity scores than it should for non-toxic examples mentioning the identity.</li><br>\n",
    "\n",
    "<li><b>BNSP (Background Negative, Subgroup Positive) AUC:</b><br>\n",
    "       Here, we restrict the test set to the toxic examples that mention the identity and the non-toxic examples that do not. A low value here means that the model confuses toxic examples that mention the identity with non-toxic examples that do not, likely meaning that the model predicts lower toxicity scores than it should for toxic examples mentioning the identity.</li>\n",
    "</li><br><br>"
   ]
  },
  {
   "cell_type": "code",
   "execution_count": 2,
   "metadata": {
    "_cell_guid": "79c7e3d0-c299-4dcb-8224-4455121ee9b0",
    "_uuid": "d629ff2d2480ee46fbb7e2d37f6b5fab8052498a"
   },
   "outputs": [],
   "source": [
    "SUBGROUP_AUC = 'subgroup_auc'\n",
    "BPSN_AUC = 'bpsn_auc'  # stands for background positive, subgroup negative\n",
    "BNSP_AUC = 'bnsp_auc'  # stands for background negative, subgroup positive\n",
    "\n",
    "def compute_auc(y_true, y_pred):\n",
    "    try:\n",
    "        return metrics.roc_auc_score(y_true, y_pred)\n",
    "    except ValueError:\n",
    "        return np.nan\n",
    "\n",
    "def compute_subgroup_auc(df, subgroup, label, model_name):\n",
    "    subgroup_examples = df[df[subgroup]]\n",
    "    return compute_auc(subgroup_examples[label], subgroup_examples[model_name])\n",
    "\n",
    "def compute_bpsn_auc(df, subgroup, label, model_name):\n",
    "    \"\"\"Computes the AUC of the within-subgroup negative examples and the background positive examples.\"\"\"\n",
    "    subgroup_negative_examples = df[df[subgroup] & ~df[label]]\n",
    "    non_subgroup_positive_examples = df[~df[subgroup] & df[label]]\n",
    "    examples = subgroup_negative_examples.append(non_subgroup_positive_examples)\n",
    "    return compute_auc(examples[label], examples[model_name])\n",
    "\n",
    "def compute_bnsp_auc(df, subgroup, label, model_name):\n",
    "    \"\"\"Computes the AUC of the within-subgroup positive examples and the background negative examples.\"\"\"\n",
    "    subgroup_positive_examples = df[df[subgroup] & df[label]]\n",
    "    non_subgroup_negative_examples = df[~df[subgroup] & ~df[label]]\n",
    "    examples = subgroup_positive_examples.append(non_subgroup_negative_examples)\n",
    "    return compute_auc(examples[label], examples[model_name])\n",
    "\n",
    "def compute_bias_metrics_for_model(dataset,\n",
    "                                   subgroups,\n",
    "                                   model,\n",
    "                                   label_col,\n",
    "                                   include_asegs=False):\n",
    "    \"\"\"Computes per-subgroup metrics for all subgroups and one model.\"\"\"\n",
    "    records = []\n",
    "    for subgroup in subgroups:\n",
    "        record = {\n",
    "            'subgroup': subgroup,\n",
    "            'subgroup_size': len(dataset[dataset[subgroup]])\n",
    "        }\n",
    "        record[SUBGROUP_AUC] = compute_subgroup_auc(dataset, subgroup, label_col, model)\n",
    "        record[BPSN_AUC] = compute_bpsn_auc(dataset, subgroup, label_col, model)\n",
    "        record[BNSP_AUC] = compute_bnsp_auc(dataset, subgroup, label_col, model)\n",
    "        records.append(record)\n",
    "    return pd.DataFrame(records).sort_values('subgroup_auc', ascending=True)\n"
   ]
  },
  {
   "cell_type": "markdown",
   "metadata": {},
   "source": [
    "## Generalized Mean of Bias AUCs\n",
    "\n",
    "To combine the per-identity Bias AUCs into one overall measure, we calculate their generalized mean as defined below:\n",
    "\n",
    "$$M_p(m_s) = \\left(\\frac{1}{N} \\sum_{s=1}^{N} m_s^p\\right)^\\frac{1}{p}$$\n",
    "\n",
    "\n",
    "where: \n",
    "\n",
    "$$  M_p = the \\ pth\\ power\\ mean\\ function$$\n",
    "$$m_s = the\\ bias\\ metric\\ m \\ calulated \\ for \\ subgroup$$\n",
    "$$N = number \\ of \\ identity \\ subgroups$$\n",
    "\n",
    "## Final Metric\n",
    "\n",
    "$$score = w_0 AUC_{overall} + \\sum_{a=1}^{A} w_a M_p(m_{s,a})$$\n",
    "\n",
    "where:\n",
    "\n",
    "$$A = number \\ of \\ submetrics \\ (3)$$\n",
    "\n",
    "$$m_{s,a} = bias \\ metric \\ for \\ identity \\ subgroup \\ s \\ using \\ submetric \\ a$$\n",
    "\n",
    "$$w_a = a \\ weighting \\ for \\ the \\ relative \\ importance \\ of \\ each \\ submetric; \\ all \\ four \\ w \\ values \\ set \\ to \\ 0.25$$"
   ]
  },
  {
   "cell_type": "code",
   "execution_count": 3,
   "metadata": {},
   "outputs": [],
   "source": [
    "def calculate_overall_auc(df, model_name):\n",
    "    true_labels = df[TOXICITY_COLUMN]\n",
    "    predicted_labels = df[model_name]\n",
    "    return metrics.roc_auc_score(true_labels, predicted_labels)\n",
    "\n",
    "def power_mean(series, p):\n",
    "    total = sum(np.power(series, p))\n",
    "    return np.power(total / len(series), 1 / p)\n",
    "\n",
    "def get_final_metric(bias_df, overall_auc, POWER=-5, OVERALL_MODEL_WEIGHT=0.25):\n",
    "    bias_score = np.average([\n",
    "        power_mean(bias_df[SUBGROUP_AUC], POWER),\n",
    "        power_mean(bias_df[BPSN_AUC], POWER),\n",
    "        power_mean(bias_df[BNSP_AUC], POWER)\n",
    "    ])\n",
    "    return (OVERALL_MODEL_WEIGHT * overall_auc) + ((1 - OVERALL_MODEL_WEIGHT) * bias_score)\n",
    "    \n",
    "#get_final_metric(bias_metrics_df, calculate_overall_auc(X_test_TFIDF, MODEL_NAME))"
   ]
  },
  {
   "cell_type": "markdown",
   "metadata": {},
   "source": [
    "## 2. Data Pre-processing and vectorizing:"
   ]
  },
  {
   "cell_type": "code",
   "execution_count": 4,
   "metadata": {},
   "outputs": [],
   "source": [
    "train_embd = pd.read_csv('../input/jigsaw-unintended-bias-in-toxicity-classification/train.csv', sep=',', quotechar='\"')"
   ]
  },
  {
   "cell_type": "code",
   "execution_count": 5,
   "metadata": {},
   "outputs": [],
   "source": [
    "##REF:https://www.kaggle.com/christofhenkel/how-to-preprocessing-for-glove-part1-eda\n",
    "\n",
    "import operator \n",
    "\n",
    "def check_coverage(vocab,embeddings_index):\n",
    "    a = {}\n",
    "    oov = {}\n",
    "    k = 0\n",
    "    i = 0\n",
    "    for word in tqdm(vocab):\n",
    "        try:\n",
    "            a[word] = embeddings_index[word]\n",
    "            k += vocab[word]\n",
    "        except:\n",
    "\n",
    "            oov[word] = vocab[word]\n",
    "            i += vocab[word]\n",
    "            pass\n",
    "\n",
    "    print('Found embeddings for {:.2%} of vocab'.format(len(a) / len(vocab)))\n",
    "    print('Found embeddings for  {:.2%} of all text'.format(k / (k + i)))\n",
    "    sorted_x = sorted(oov.items(), key=operator.itemgetter(1))[::-1]\n",
    "\n",
    "    return sorted_x\n",
    "\n",
    "def build_vocab(sentences, verbose =  True):\n",
    "    \"\"\"\n",
    "    :param sentences: list of list of words\n",
    "    :return: dictionary of words and their count\n",
    "    \"\"\"\n",
    "    vocab = {}\n",
    "    for sentence in sentences:\n",
    "        for word in sentence:\n",
    "            try:\n",
    "                vocab[word] += 1\n",
    "            except KeyError:\n",
    "                vocab[word] = 1\n",
    "    return vocab"
   ]
  },
  {
   "cell_type": "code",
   "execution_count": 6,
   "metadata": {},
   "outputs": [],
   "source": [
    "def get_coefs(word, *arr):\n",
    "    return word, np.asarray(arr, dtype='float32')\n",
    "\n",
    "def load_embeddings(path):\n",
    "    with open(path,'rb') as f:\n",
    "        emb_arr = pickle.load(f)\n",
    "    return emb_arr\n",
    "\n",
    "def build_matrix(word_index, path):\n",
    "    embedding_index = load_embeddings(path)\n",
    "    embedding_matrix = np.zeros((len(word_index) + 1, 300))\n",
    "    unknown_words = []\n",
    "    \n",
    "    for word, i in word_index.items():\n",
    "        try:\n",
    "            embedding_matrix[i] = embedding_index[word]\n",
    "        except KeyError:\n",
    "            unknown_words.append(word)\n",
    "    return embedding_matrix, unknown_words"
   ]
  },
  {
   "cell_type": "code",
   "execution_count": 7,
   "metadata": {},
   "outputs": [
    {
     "name": "stdout",
     "output_type": "stream",
     "text": [
      "loaded 2196008 word vectors in 9.756149291992188s\n"
     ]
    }
   ],
   "source": [
    "\n",
    "GLOVE_EMBEDDING_PATH=\"../input/pickled-glove840b300d-for-10sec-loading/glove.840B.300d.pkl\"\n",
    "tic = time.time()\n",
    "glove_embeddings = load_embeddings(GLOVE_EMBEDDING_PATH)\n",
    "print(f'loaded {len(glove_embeddings)} word vectors in {time.time()-tic}s')"
   ]
  },
  {
   "cell_type": "code",
   "execution_count": 8,
   "metadata": {},
   "outputs": [
    {
     "data": {
      "text/plain": [
       "20"
      ]
     },
     "execution_count": 8,
     "metadata": {},
     "output_type": "execute_result"
    }
   ],
   "source": [
    "import gc\n",
    "del train_embd\n",
    "del glove_embeddings\n",
    "gc.collect()"
   ]
  },
  {
   "cell_type": "markdown",
   "metadata": {},
   "source": [
    "# Loading Preprocessed data"
   ]
  },
  {
   "cell_type": "code",
   "execution_count": 17,
   "metadata": {},
   "outputs": [],
   "source": [
    "train_embd = pd.read_csv('../input/jigshwpreprocesseddata/train_embd.csv', sep=',', quotechar='\"')"
   ]
  },
  {
   "cell_type": "code",
   "execution_count": 18,
   "metadata": {},
   "outputs": [
    {
     "data": {
      "text/plain": [
       "(1804874, 46)"
      ]
     },
     "execution_count": 18,
     "metadata": {},
     "output_type": "execute_result"
    }
   ],
   "source": [
    "train_embd.shape"
   ]
  },
  {
   "cell_type": "markdown",
   "metadata": {},
   "source": [
    "# Deep Learning Models"
   ]
  },
  {
   "cell_type": "code",
   "execution_count": 19,
   "metadata": {},
   "outputs": [],
   "source": [
    "from sklearn import model_selection\n",
    "from tensorflow.keras.preprocessing.text import Tokenizer\n",
    "from tensorflow.keras.utils import to_categorical\n",
    "from tensorflow.keras.preprocessing.sequence import pad_sequences\n",
    "\n",
    "from tensorflow.keras.optimizers import RMSprop\n",
    "from tensorflow.keras.models import Model\n",
    "from tensorflow.keras.models import load_model\n",
    "\n",
    "import numpy as np\n",
    "from tensorflow.keras.models import Sequential\n",
    "from tensorflow.keras.preprocessing import sequence\n",
    "\n",
    "\n",
    "\n",
    "import tensorflow as tf\n",
    "from tensorflow.keras import models, layers\n",
    "from tensorflow.keras.models import Model\n",
    "from tensorflow.keras.optimizers import Adam\n",
    "from tensorflow.keras.callbacks import ModelCheckpoint \n",
    "from tensorflow.keras.layers import Dense, Flatten, LSTM, Conv1D, MaxPooling1D, Dropout, Activation, Input,\\\n",
    " Embedding,BatchNormalization,Bidirectional,GlobalMaxPool1D,concatenate\n",
    "\n",
    "from tensorflow.keras.models import model_from_json  "
   ]
  },
  {
   "cell_type": "code",
   "execution_count": 20,
   "metadata": {},
   "outputs": [],
   "source": [
    "train_embd['comment_text'] = train_embd['comment_text'].astype(str) \n",
    "\n",
    "# List all identities\n",
    "identity_columns = [\n",
    "    'male', 'female', 'homosexual_gay_or_lesbian', 'christian', 'jewish',\n",
    "    'muslim', 'black', 'white', 'psychiatric_or_mental_illness']\n",
    "\n",
    "TOXICITY_COLUMN = 'target' \n",
    "\n",
    "# Converting taget and identity columns to booleans\n",
    "def convert_to_bool(df, col_name):\n",
    "    df[col_name] = np.where(df[col_name] >= 0.5, True, False)\n",
    "    \n",
    "def convert_dataframe_to_bool(df):\n",
    "    bool_df = df.copy()\n",
    "    for col in ['target'] + identity_columns:\n",
    "        convert_to_bool(bool_df, col)\n",
    "    return bool_df\n",
    "\n",
    "train_embd = convert_dataframe_to_bool(train_embd)    "
   ]
  },
  {
   "cell_type": "markdown",
   "metadata": {},
   "source": [
    "# Spliting Data in Train and Test"
   ]
  },
  {
   "cell_type": "code",
   "execution_count": 21,
   "metadata": {},
   "outputs": [
    {
     "name": "stdout",
     "output_type": "stream",
     "text": [
      "1624386 train comments, 180488 validate comments 360975 test comments\n"
     ]
    }
   ],
   "source": [
    "num_classes=2\n",
    "\n",
    "train_df, test_df = model_selection.train_test_split(train_embd, test_size=0.2)\n",
    "train_df, validate_df = model_selection.train_test_split(train_embd, test_size=0.1)\n",
    "# convert to one hot encoing \n",
    "y_train = tf.keras.utils.to_categorical(train_df['target'], num_classes)\n",
    "y_test= tf.keras.utils.to_categorical(test_df['target'], num_classes)\n",
    "y_validate = tf.keras.utils.to_categorical(validate_df['target'], num_classes)\n",
    "\n",
    "print('%d train comments, %d validate comments %d test comments' % (len(train_df), len(validate_df),len(test_df)))"
   ]
  },
  {
   "cell_type": "code",
   "execution_count": 23,
   "metadata": {},
   "outputs": [
    {
     "data": {
      "text/plain": [
       "120"
      ]
     },
     "execution_count": 23,
     "metadata": {},
     "output_type": "execute_result"
    }
   ],
   "source": [
    "import gc\n",
    "\n",
    "#delete when no longer needed\n",
    "del train_embd\n",
    "#collect residual garbage\n",
    "gc.collect()"
   ]
  },
  {
   "cell_type": "markdown",
   "metadata": {},
   "source": [
    "## Create a text tokenizer"
   ]
  },
  {
   "cell_type": "code",
   "execution_count": 25,
   "metadata": {},
   "outputs": [],
   "source": [
    "\n",
    "\n",
    "\n",
    "MAX_NUM_WORDS = 10000\n",
    "TOXICITY_COLUMN = 'target'\n",
    "TEXT_COLUMN = 'comment_text'\n",
    "\n",
    "# Create a text tokenizer.\n",
    "tokenizer = Tokenizer(num_words=MAX_NUM_WORDS)\n",
    "tokenizer.fit_on_texts(train_df[TEXT_COLUMN])\n",
    "\n",
    "# All comments must be truncated or padded to be the same length.\n",
    "MAX_SEQUENCE_LENGTH = 250\n",
    "def pad_text(texts, tokenizer):\n",
    "    return pad_sequences(tokenizer.texts_to_sequences(texts), maxlen=MAX_SEQUENCE_LENGTH)\n",
    "\n",
    "X_train = pad_text(train_df[TEXT_COLUMN], tokenizer)\n",
    "X_test = pad_text(test_df[TEXT_COLUMN], tokenizer)\n",
    "X_validate = pad_text(validate_df[TEXT_COLUMN], tokenizer)"
   ]
  },
  {
   "cell_type": "code",
   "execution_count": 26,
   "metadata": {},
   "outputs": [
    {
     "data": {
      "text/plain": [
       "20"
      ]
     },
     "execution_count": 26,
     "metadata": {},
     "output_type": "execute_result"
    }
   ],
   "source": [
    "#delete when no longer needed\n",
    "del train_df\n",
    "#del test_df\n",
    "del validate_df\n",
    "#collect residual garbage\n",
    "gc.collect()"
   ]
  },
  {
   "cell_type": "code",
   "execution_count": 27,
   "metadata": {},
   "outputs": [
    {
     "name": "stdout",
     "output_type": "stream",
     "text": [
      "n unknown words (glove):  199700\n"
     ]
    }
   ],
   "source": [
    "EMBEDDINGS_DIMENSION = 300\n",
    "glove_matrix, unknown_words_glove = build_matrix(tokenizer.word_index, GLOVE_EMBEDDING_PATH)\n",
    "print('n unknown words (glove): ', len(unknown_words_glove))"
   ]
  },
  {
   "cell_type": "code",
   "execution_count": 28,
   "metadata": {},
   "outputs": [
    {
     "data": {
      "text/plain": [
       "(352291, 300)"
      ]
     },
     "execution_count": 28,
     "metadata": {},
     "output_type": "execute_result"
    }
   ],
   "source": [
    "glove_matrix.shape"
   ]
  },
  {
   "cell_type": "code",
   "execution_count": 29,
   "metadata": {},
   "outputs": [],
   "source": [
    "\n",
    "\n",
    "import pickle\n",
    "\n",
    "# saving\n",
    "with open('tokenizer_bidirectional_lstm.pickle', 'wb') as handle:\n",
    "    pickle.dump(tokenizer, handle)\n",
    "\n",
    "# loading\n",
    "#with open('tokenizer.pickle', 'rb') as handle:\n",
    "#    tokenizer = pickle.load(handle)\n",
    "\n"
   ]
  },
  {
   "cell_type": "markdown",
   "metadata": {},
   "source": [
    "## 2 Layer LSTM Model 2"
   ]
  },
  {
   "cell_type": "code",
   "execution_count": 30,
   "metadata": {},
   "outputs": [],
   "source": [
    "def Bidirectional_LSTM():\n",
    "    input = Input(shape=(MAX_SEQUENCE_LENGTH,), dtype='int32',name='inputs')\n",
    "    #inputs = Input(name='inputs',shape=[MAX_SEQUENCE_LENGTH])\n",
    "    embedding_layer = Embedding(len(tokenizer.word_index) + 1,\n",
    "                                        EMBEDDINGS_DIMENSION,\n",
    "                                        #weights=[embedding_matrix],\n",
    "                                        weights=[glove_matrix],  \n",
    "                                        input_length=MAX_SEQUENCE_LENGTH,\n",
    "                                        trainable=False)\n",
    "    layer = embedding_layer(input)\n",
    "    layer = Bidirectional(LSTM(128,return_sequences=True))(layer)\n",
    "    layer = Dropout(0.3)(layer)\n",
    "    layer = GlobalMaxPool1D()(layer)\n",
    "    layer = BatchNormalization()(layer)\n",
    "    layer = Dropout(0.5)(layer)\n",
    "    layer = Dense(512,activation='relu',name='FC1')(layer) \n",
    "    layer = BatchNormalization()(layer)\n",
    "    layer = Dense(2,name='out_layer')(layer)\n",
    "    layer = Activation('sigmoid')(layer)\n",
    "\n",
    "    model = Model(inputs=input,outputs=layer)\n",
    "    return model\n"
   ]
  },
  {
   "cell_type": "code",
   "execution_count": 31,
   "metadata": {},
   "outputs": [
    {
     "name": "stdout",
     "output_type": "stream",
     "text": [
      "Model: \"model\"\n",
      "_________________________________________________________________\n",
      "Layer (type)                 Output Shape              Param #   \n",
      "=================================================================\n",
      "inputs (InputLayer)          [(None, 250)]             0         \n",
      "_________________________________________________________________\n",
      "embedding (Embedding)        (None, 250, 300)          105687300 \n",
      "_________________________________________________________________\n",
      "bidirectional (Bidirectional (None, 250, 256)          439296    \n",
      "_________________________________________________________________\n",
      "dropout (Dropout)            (None, 250, 256)          0         \n",
      "_________________________________________________________________\n",
      "global_max_pooling1d (Global (None, 256)               0         \n",
      "_________________________________________________________________\n",
      "batch_normalization (BatchNo (None, 256)               1024      \n",
      "_________________________________________________________________\n",
      "dropout_1 (Dropout)          (None, 256)               0         \n",
      "_________________________________________________________________\n",
      "FC1 (Dense)                  (None, 512)               131584    \n",
      "_________________________________________________________________\n",
      "batch_normalization_1 (Batch (None, 512)               2048      \n",
      "_________________________________________________________________\n",
      "out_layer (Dense)            (None, 2)                 1026      \n",
      "_________________________________________________________________\n",
      "activation (Activation)      (None, 2)                 0         \n",
      "=================================================================\n",
      "Total params: 106,262,278\n",
      "Trainable params: 573,442\n",
      "Non-trainable params: 105,688,836\n",
      "_________________________________________________________________\n"
     ]
    }
   ],
   "source": [
    "np.random.seed(7)\n",
    "BIDIRECTIONAL_LSTM_Model = Bidirectional_LSTM()\n",
    "BIDIRECTIONAL_LSTM_Model.summary()\n",
    "BIDIRECTIONAL_LSTM_Model.compile(loss='categorical_crossentropy',optimizer=Adam(),metrics=['accuracy'])"
   ]
  },
  {
   "cell_type": "code",
   "execution_count": 32,
   "metadata": {},
   "outputs": [
    {
     "data": {
      "image/png": "[encoded data removed]",
      "text/plain": [
       "<IPython.core.display.Image object>"
      ]
     },
     "execution_count": 32,
     "metadata": {},
     "output_type": "execute_result"
    }
   ],
   "source": [
    "from tensorflow.keras.utils import plot_model\n",
    "\n",
    "plot_model(BIDIRECTIONAL_LSTM_Model, 'BIDIRECTIONAL_LSTM_Model.png', show_shapes=True)"
   ]
  },
  {
   "cell_type": "code",
   "execution_count": 33,
   "metadata": {},
   "outputs": [
    {
     "name": "stdout",
     "output_type": "stream",
     "text": [
      "Epoch 1/40\n",
      "3173/3173 [==============================] - ETA: 0s - loss: 0.1657 - accuracy: 0.9346\n",
      "Epoch 00001: val_loss improved from inf to 0.15877, saving model to weights_BIDIRECTIONAL_LSTM_Model.best.hdf5\n",
      "3173/3173 [==============================] - 476s 150ms/step - loss: 0.1657 - accuracy: 0.9346 - val_loss: 0.1588 - val_accuracy: 0.9443\n",
      "Epoch 2/40\n",
      "3173/3173 [==============================] - ETA: 0s - loss: 0.1413 - accuracy: 0.9476\n",
      "Epoch 00002: val_loss did not improve from 0.15877\n",
      "3173/3173 [==============================] - 474s 149ms/step - loss: 0.1413 - accuracy: 0.9476 - val_loss: 0.2777 - val_accuracy: 0.9483\n",
      "Epoch 3/40\n",
      "3173/3173 [==============================] - ETA: 0s - loss: 0.1360 - accuracy: 0.9491\n",
      "Epoch 00003: val_loss did not improve from 0.15877\n",
      "3173/3173 [==============================] - 475s 150ms/step - loss: 0.1360 - accuracy: 0.9491 - val_loss: 0.2678 - val_accuracy: 0.9486\n",
      "Epoch 4/40\n",
      "3173/3173 [==============================] - ETA: 0s - loss: 0.0810 - accuracy: 0.9675\n",
      "Epoch 00021: val_loss did not improve from 0.15877\n",
      "3173/3173 [==============================] - 477s 150ms/step - loss: 0.0810 - accuracy: 0.9675 - val_loss: 0.9480 - val_accuracy: 0.0802\n",
      "Epoch 22/40\n",
      "3173/3173 [==============================] - ETA: 0s - loss: 0.0754 - accuracy: 0.9697\n",
      "Epoch 00022: val_loss did not improve from 0.15877\n",
      "3173/3173 [==============================] - 477s 150ms/step - loss: 0.0754 - accuracy: 0.9697 - val_loss: 1.0015 - val_accuracy: 0.1380\n",
      "Epoch 23/40\n",
      "3173/3173 [==============================] - ETA: 0s - loss: 0.0795 - accuracy: 0.9674\n",
      "Epoch 00023: val_loss did not improve from 0.15877\n",
      "3173/3173 [==============================] - 476s 150ms/step - loss: 0.0795 - accuracy: 0.9674 - val_loss: 0.7942 - val_accuracy: 0.2193\n",
      "Epoch 24/40\n",
      " 404/3173 [==>...........................] - ETA: 6:33 - loss: 0.0718 - accuracy: 0.9705\n",
      "Epoch 00024: val_loss did not improve from 0.15877\n",
      "3173/3173 [==============================] - 477s 150ms/step - loss: 0.0723 - accuracy: 0.9707 - val_loss: 1.0856 - val_accuracy: 0.1374\n",
      "Epoch 25/40\n",
      "3173/3173 [==============================] - ETA: 0s - loss: 0.0518 - accuracy: 0.9801\n",
      "Epoch 00040: val_loss did not improve from 0.15877\n",
      "3173/3173 [==============================] - 473s 149ms/step - loss: 0.0518 - accuracy: 0.9801 - val_loss: 1.3496 - val_accuracy: 0.0941\n"
     ]
    }
   ],
   "source": [
    "#https://www.kaggle.com/yuliagm/how-to-work-with-big-datasets-on-16g-ram-dask\n",
    "# checkpoint\n",
    "# Configure the TensorBoard callback and fit your model\n",
    "\n",
    "#tensorboard_callback = tf.keras.callbacks.TensorBoard(\"logs\")\n",
    "\n",
    "filepath=\"weights_BIDIRECTIONAL_LSTM_Model.best.hdf5\"\n",
    "checkpoint = ModelCheckpoint(filepath, monitor='val_loss', verbose=1, save_best_only=True, mode='min')\n",
    "\n",
    "callbacks_list = [checkpoint]    \n",
    "\n",
    "history=BIDIRECTIONAL_LSTM_Model.fit(X_train, y_train, verbose=1,epochs=40,validation_data=(X_validate, y_validate) ,batch_size=512,callbacks=callbacks_list)"
   ]
  },
  {
   "cell_type": "code",
   "execution_count": 34,
   "metadata": {},
   "outputs": [
    {
     "data": {
      "text/plain": [
       "{'loss': [0.16568523645401,\n",
       "  0.14134745299816132,\n",
       "  0.13601671159267426,\n",
       "  0.1329781711101532,\n",
       "  0.1297060251235962,\n",
       "  0.1271364390850067,\n",
       "  0.12435182183980942,\n",
       "  0.12149985134601593,\n",
       "  0.118521548807621,\n",
       "  0.1152162253856659,\n",
       "  0.11199413985013962,\n",
       "  0.10850385576486588,\n",
       "  0.10494875907897949,\n",
       "  0.10129007697105408,\n",
       "  0.0975206196308136,\n",
       "  0.09392253309488297,\n",
       "  0.09036115556955338,\n",
       "  0.08676452189683914,\n",
       "  0.08347856998443604,\n",
       "  0.08033637702465057,\n",
       "  0.0810031071305275,\n",
       "  0.0754023939371109,\n",
       "  0.07945531606674194,\n",
       "  0.07230927795171738,\n",
       "  0.06783143430948257,\n",
       "  0.07538340240716934,\n",
       "  0.0693841427564621,\n",
       "  0.06708542257547379,\n",
       "  0.06791822612285614,\n",
       "  0.06287433207035065,\n",
       "  0.06108228489756584,\n",
       "  0.06055667996406555,\n",
       "  0.0599505752325058,\n",
       "  0.05461909994482994,\n",
       "  0.053427692502737045,\n",
       "  0.05268428474664688,\n",
       "  0.05222220718860626,\n",
       "  0.0496455579996109,\n",
       "  0.04770948737859726,\n",
       "  0.051785729825496674],\n",
       " 'accuracy': [0.9345918893814087,\n",
       "  0.9475715756416321,\n",
       "  0.9491161704063416,\n",
       "  0.9501190185546875,\n",
       "  0.9511501789093018,\n",
       "  0.9519566297531128,\n",
       "  0.9526928663253784,\n",
       "  0.9534494876861572,\n",
       "  0.9543507695198059,\n",
       "  0.9553332924842834,\n",
       "  0.9563637971878052,\n",
       "  0.9573882222175598,\n",
       "  0.9586219191551208,\n",
       "  0.959709107875824,\n",
       "  0.9611865878105164,\n",
       "  0.962386429309845,\n",
       "  0.9636613726615906,\n",
       "  0.965165913105011,\n",
       "  0.9662980437278748,\n",
       "  0.9676721096038818,\n",
       "  0.9675034284591675,\n",
       "  0.969652533531189,\n",
       "  0.9674461483955383,\n",
       "  0.9707015156745911,\n",
       "  0.9727940559387207,\n",
       "  0.9703457355499268,\n",
       "  0.9722553491592407,\n",
       "  0.9732532501220703,\n",
       "  0.9730716943740845,\n",
       "  0.9751740097999573,\n",
       "  0.9759447574615479,\n",
       "  0.9762987494468689,\n",
       "  0.9766446948051453,\n",
       "  0.9788221716880798,\n",
       "  0.9793140292167664,\n",
       "  0.9797123074531555,\n",
       "  0.979888379573822,\n",
       "  0.981116533279419,\n",
       "  0.9818670153617859,\n",
       "  0.9801143407821655],\n",
       " 'val_loss': [0.15876521170139313,\n",
       "  0.2777128219604492,\n",
       "  0.26783257722854614,\n",
       "  0.18918579816818237,\n",
       "  0.2998027801513672,\n",
       "  0.3077769875526428,\n",
       "  0.5030180215835571,\n",
       "  0.545738697052002,\n",
       "  0.6255694627761841,\n",
       "  0.6007661819458008,\n",
       "  0.5987762808799744,\n",
       "  0.6256735920906067,\n",
       "  0.7758694291114807,\n",
       "  0.7676414251327515,\n",
       "  0.8507817387580872,\n",
       "  0.8928033113479614,\n",
       "  0.8764973878860474,\n",
       "  0.793122410774231,\n",
       "  0.8729374408721924,\n",
       "  0.9540940523147583,\n",
       "  0.9479867815971375,\n",
       "  1.0014840364456177,\n",
       "  0.7942341566085815,\n",
       "  1.0856058597564697,\n",
       "  1.1000967025756836,\n",
       "  0.7077581286430359,\n",
       "  0.9006074070930481,\n",
       "  0.780356228351593,\n",
       "  1.109430193901062,\n",
       "  1.2159829139709473,\n",
       "  0.9880322813987732,\n",
       "  1.121448040008545,\n",
       "  1.3612606525421143,\n",
       "  1.6840553283691406,\n",
       "  1.5109723806381226,\n",
       "  1.4135041236877441,\n",
       "  1.268231987953186,\n",
       "  1.6344959735870361,\n",
       "  1.9222773313522339,\n",
       "  1.349550485610962],\n",
       " 'val_accuracy': [0.9442788362503052,\n",
       "  0.9483234286308289,\n",
       "  0.948644757270813,\n",
       "  0.9475976228713989,\n",
       "  0.9487666487693787,\n",
       "  0.9479411244392395,\n",
       "  0.9280007481575012,\n",
       "  0.9116894006729126,\n",
       "  0.8595585227012634,\n",
       "  0.8618855476379395,\n",
       "  0.905323326587677,\n",
       "  0.8353574872016907,\n",
       "  0.09049908816814423,\n",
       "  0.1203681156039238,\n",
       "  0.08018815517425537,\n",
       "  0.08019369840621948,\n",
       "  0.08018261939287186,\n",
       "  0.08796706795692444,\n",
       "  0.08019369840621948,\n",
       "  0.08018261939287186,\n",
       "  0.08018261939287186,\n",
       "  0.13797038793563843,\n",
       "  0.2193220555782318,\n",
       "  0.137427419424057,\n",
       "  0.09207260608673096,\n",
       "  0.4206872582435608,\n",
       "  0.24715770781040192,\n",
       "  0.2671922743320465,\n",
       "  0.10983555763959885,\n",
       "  0.08802247047424316,\n",
       "  0.15516820549964905,\n",
       "  0.11527635902166367,\n",
       "  0.10316475480794907,\n",
       "  0.08054275065660477,\n",
       "  0.08683125674724579,\n",
       "  0.08527436852455139,\n",
       "  0.09767962247133255,\n",
       "  0.08025464415550232,\n",
       "  0.08033774793148041,\n",
       "  0.09412260353565216]}"
      ]
     },
     "execution_count": 34,
     "metadata": {},
     "output_type": "execute_result"
    }
   ],
   "source": [
    "history.history"
   ]
  },
  {
   "cell_type": "code",
   "execution_count": 35,
   "metadata": {},
   "outputs": [
    {
     "data": {
      "image/png": "[encoded data removed]",
      "text/plain": [
       "<Figure size 432x288 with 1 Axes>"
      ]
     },
     "metadata": {
      "needs_background": "light"
     },
     "output_type": "display_data"
    }
   ],
   "source": [
    "loss_train = history.history['loss']\n",
    "loss_val = history.history['val_loss']\n",
    "#epochs = np.range(1,1)\n",
    "plt.plot(loss_train, 'g', label='Training loss')\n",
    "plt.plot(loss_val, 'b', label='validation loss')\n",
    "plt.title('Training and Validation loss')\n",
    "plt.xlabel('Epochs')\n",
    "plt.ylabel('Loss')\n",
    "plt.legend()\n",
    "plt.show()"
   ]
  },
  {
   "cell_type": "code",
   "execution_count": 36,
   "metadata": {},
   "outputs": [
    {
     "data": {
      "image/png": "[encoded data removed]",
      "text/plain": [
       "<Figure size 432x288 with 1 Axes>"
      ]
     },
     "metadata": {
      "needs_background": "light"
     },
     "output_type": "display_data"
    }
   ],
   "source": [
    "loss_train = history.history['accuracy']\n",
    "loss_val = history.history['val_accuracy']\n",
    "epochs = range(1,41)\n",
    "plt.plot(loss_train, 'g', label='Training accuracy')\n",
    "plt.plot(loss_val, 'b', label='validation accuracy')\n",
    "plt.title('Training and Validation accuracy')\n",
    "plt.xlabel('Epochs')\n",
    "plt.ylabel('Accuracy')\n",
    "plt.legend()\n",
    "plt.show()"
   ]
  },
  {
   "cell_type": "code",
   "execution_count": 37,
   "metadata": {},
   "outputs": [
    {
     "name": "stdout",
     "output_type": "stream",
     "text": [
      "0.9607934712929705\n"
     ]
    }
   ],
   "source": [
    "#new_model2 = tf.keras.models.load_model('/content/gdrive/My Drive/Checkpoints/Self Case Study 1/CNN LSTM Model 1/saved_model2')\n",
    "from sklearn.metrics import roc_auc_score\n",
    "predict_y = BIDIRECTIONAL_LSTM_Model.predict(X_test)\n",
    "print(roc_auc_score(test_df['target'].values, predict_y[:,1]))"
   ]
  },
  {
   "cell_type": "code",
   "execution_count": 38,
   "metadata": {},
   "outputs": [
    {
     "data": {
      "text/html": [
       "<div>\n",
       "<style scoped>\n",
       "    .dataframe tbody tr th:only-of-type {\n",
       "        vertical-align: middle;\n",
       "    }\n",
       "\n",
       "    .dataframe tbody tr th {\n",
       "        vertical-align: top;\n",
       "    }\n",
       "\n",
       "    .dataframe thead th {\n",
       "        text-align: right;\n",
       "    }\n",
       "</style>\n",
       "<table border=\"1\" class=\"dataframe\">\n",
       "  <thead>\n",
       "    <tr style=\"text-align: right;\">\n",
       "      <th></th>\n",
       "      <th>subgroup</th>\n",
       "      <th>subgroup_size</th>\n",
       "      <th>subgroup_auc</th>\n",
       "      <th>bpsn_auc</th>\n",
       "      <th>bnsp_auc</th>\n",
       "    </tr>\n",
       "  </thead>\n",
       "  <tbody>\n",
       "    <tr>\n",
       "      <th>2</th>\n",
       "      <td>homosexual_gay_or_lesbian</td>\n",
       "      <td>2166</td>\n",
       "      <td>0.936425</td>\n",
       "      <td>0.944570</td>\n",
       "      <td>0.956381</td>\n",
       "    </tr>\n",
       "    <tr>\n",
       "      <th>7</th>\n",
       "      <td>white</td>\n",
       "      <td>5034</td>\n",
       "      <td>0.943070</td>\n",
       "      <td>0.952580</td>\n",
       "      <td>0.953442</td>\n",
       "    </tr>\n",
       "    <tr>\n",
       "      <th>6</th>\n",
       "      <td>black</td>\n",
       "      <td>2935</td>\n",
       "      <td>0.944565</td>\n",
       "      <td>0.948370</td>\n",
       "      <td>0.958972</td>\n",
       "    </tr>\n",
       "    <tr>\n",
       "      <th>5</th>\n",
       "      <td>muslim</td>\n",
       "      <td>4253</td>\n",
       "      <td>0.954729</td>\n",
       "      <td>0.954911</td>\n",
       "      <td>0.960735</td>\n",
       "    </tr>\n",
       "    <tr>\n",
       "      <th>0</th>\n",
       "      <td>male</td>\n",
       "      <td>8779</td>\n",
       "      <td>0.958825</td>\n",
       "      <td>0.965135</td>\n",
       "      <td>0.953299</td>\n",
       "    </tr>\n",
       "    <tr>\n",
       "      <th>1</th>\n",
       "      <td>female</td>\n",
       "      <td>10625</td>\n",
       "      <td>0.962951</td>\n",
       "      <td>0.971473</td>\n",
       "      <td>0.948448</td>\n",
       "    </tr>\n",
       "    <tr>\n",
       "      <th>4</th>\n",
       "      <td>jewish</td>\n",
       "      <td>1586</td>\n",
       "      <td>0.964534</td>\n",
       "      <td>0.962758</td>\n",
       "      <td>0.961978</td>\n",
       "    </tr>\n",
       "    <tr>\n",
       "      <th>3</th>\n",
       "      <td>christian</td>\n",
       "      <td>8171</td>\n",
       "      <td>0.969144</td>\n",
       "      <td>0.977716</td>\n",
       "      <td>0.946865</td>\n",
       "    </tr>\n",
       "    <tr>\n",
       "      <th>8</th>\n",
       "      <td>psychiatric_or_mental_illness</td>\n",
       "      <td>955</td>\n",
       "      <td>0.971925</td>\n",
       "      <td>0.962719</td>\n",
       "      <td>0.971493</td>\n",
       "    </tr>\n",
       "  </tbody>\n",
       "</table>\n",
       "</div>"
      ],
      "text/plain": [
       "                        subgroup  subgroup_size  subgroup_auc  bpsn_auc  \\\n",
       "2      homosexual_gay_or_lesbian           2166      0.936425  0.944570   \n",
       "7                          white           5034      0.943070  0.952580   \n",
       "6                          black           2935      0.944565  0.948370   \n",
       "5                         muslim           4253      0.954729  0.954911   \n",
       "0                           male           8779      0.958825  0.965135   \n",
       "1                         female          10625      0.962951  0.971473   \n",
       "4                         jewish           1586      0.964534  0.962758   \n",
       "3                      christian           8171      0.969144  0.977716   \n",
       "8  psychiatric_or_mental_illness            955      0.971925  0.962719   \n",
       "\n",
       "   bnsp_auc  \n",
       "2  0.956381  \n",
       "7  0.953442  \n",
       "6  0.958972  \n",
       "5  0.960735  \n",
       "0  0.953299  \n",
       "1  0.948448  \n",
       "4  0.961978  \n",
       "3  0.946865  \n",
       "8  0.971493  "
      ]
     },
     "execution_count": 38,
     "metadata": {},
     "output_type": "execute_result"
    }
   ],
   "source": [
    "predict_y = BIDIRECTIONAL_LSTM_Model.predict(X_test)\n",
    "MODEL_NAME = 'LSTM_Model'\n",
    "test_df[MODEL_NAME] = list(predict_y[:,1])\n",
    "bias_metrics_df = compute_bias_metrics_for_model(test_df, identity_columns, MODEL_NAME, TOXICITY_COLUMN)\n",
    "bias_metrics_df"
   ]
  },
  {
   "cell_type": "code",
   "execution_count": 39,
   "metadata": {},
   "outputs": [
    {
     "data": {
      "text/plain": [
       "0.9582469723834446"
      ]
     },
     "execution_count": 39,
     "metadata": {},
     "output_type": "execute_result"
    }
   ],
   "source": [
    "BIDIRECTIONAL_LSTM_Model_1=get_final_metric(bias_metrics_df, calculate_overall_auc(test_df, MODEL_NAME))\n",
    "BIDIRECTIONAL_LSTM_Model_1"
   ]
  },
  {
   "cell_type": "markdown",
   "metadata": {},
   "source": [
    "# Submit"
   ]
  },
  {
   "cell_type": "code",
   "execution_count": 40,
   "metadata": {},
   "outputs": [],
   "source": [
    "test_embd = pd.read_csv('../input/jigshwpreprocesseddata/test_sub.csv', sep=',', quotechar='\"')\n",
    "test_embd['comment_text'] = test_embd['comment_text'].astype(str)\n",
    "X_test_sub = pad_text(test_embd['comment_text'], tokenizer)\n",
    "predict_y = BIDIRECTIONAL_LSTM_Model.predict(X_test_sub)\n",
    "test_embd['prediction'] = list(predict_y[:,1])"
   ]
  },
  {
   "cell_type": "code",
   "execution_count": 41,
   "metadata": {},
   "outputs": [],
   "source": [
    "submission = pd.DataFrame.from_dict({\n",
    "    'id': test_embd['id'],\n",
    "    'prediction': list(predict_y[:,1])\n",
    "})"
   ]
  },
  {
   "cell_type": "code",
   "execution_count": 42,
   "metadata": {},
   "outputs": [
    {
     "data": {
      "text/html": [
       "<div>\n",
       "<style scoped>\n",
       "    .dataframe tbody tr th:only-of-type {\n",
       "        vertical-align: middle;\n",
       "    }\n",
       "\n",
       "    .dataframe tbody tr th {\n",
       "        vertical-align: top;\n",
       "    }\n",
       "\n",
       "    .dataframe thead th {\n",
       "        text-align: right;\n",
       "    }\n",
       "</style>\n",
       "<table border=\"1\" class=\"dataframe\">\n",
       "  <thead>\n",
       "    <tr style=\"text-align: right;\">\n",
       "      <th></th>\n",
       "      <th>id</th>\n",
       "      <th>prediction</th>\n",
       "    </tr>\n",
       "  </thead>\n",
       "  <tbody>\n",
       "    <tr>\n",
       "      <th>0</th>\n",
       "      <td>7097320</td>\n",
       "      <td>0.976858</td>\n",
       "    </tr>\n",
       "    <tr>\n",
       "      <th>1</th>\n",
       "      <td>7097321</td>\n",
       "      <td>0.974776</td>\n",
       "    </tr>\n",
       "    <tr>\n",
       "      <th>2</th>\n",
       "      <td>7097322</td>\n",
       "      <td>0.963515</td>\n",
       "    </tr>\n",
       "    <tr>\n",
       "      <th>3</th>\n",
       "      <td>7097323</td>\n",
       "      <td>0.900646</td>\n",
       "    </tr>\n",
       "    <tr>\n",
       "      <th>4</th>\n",
       "      <td>7097324</td>\n",
       "      <td>0.966080</td>\n",
       "    </tr>\n",
       "  </tbody>\n",
       "</table>\n",
       "</div>"
      ],
      "text/plain": [
       "        id  prediction\n",
       "0  7097320    0.976858\n",
       "1  7097321    0.974776\n",
       "2  7097322    0.963515\n",
       "3  7097323    0.900646\n",
       "4  7097324    0.966080"
      ]
     },
     "execution_count": 42,
     "metadata": {},
     "output_type": "execute_result"
    }
   ],
   "source": [
    "submission.head()"
   ]
  },
  {
   "cell_type": "code",
   "execution_count": 43,
   "metadata": {},
   "outputs": [],
   "source": [
    "submission.to_csv('submission.csv', index=False)"
   ]
  },
  {
   "cell_type": "markdown",
   "metadata": {},
   "source": [
    "## **AUC Score on Test Data is 0.96079**\n",
    "## **Evaluation Metric Score on Test Data is 0.95825**\n",
    "## **Kaggle Score for submission test file on Private leaderboard: 0.81030**<br>\n",
    "<img src=\"https://i.ibb.co/6g6pNjk/bidirectional-lstm.png\" alt=\"bidirectional-lstm\" border=\"0\">"
   ]
  }
 ],
 "metadata": {
  "kernelspec": {
   "display_name": "Python 3",
   "language": "python",
   "name": "python3"
  },
  "language_info": {
   "codemirror_mode": {
    "name": "ipython",
    "version": 3
   },
   "file_extension": ".py",
   "mimetype": "text/x-python",
   "name": "python",
   "nbconvert_exporter": "python",
   "pygments_lexer": "ipython3",
   "version": "3.6.9"
  }
 },
 "nbformat": 4,
 "nbformat_minor": 4
}

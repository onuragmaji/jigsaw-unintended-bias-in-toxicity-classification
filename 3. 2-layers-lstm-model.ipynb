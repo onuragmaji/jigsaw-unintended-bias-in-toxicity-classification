{
 "cells": [
  {
   "cell_type": "code",
   "execution_count": 1,
   "metadata": {
    "_cell_guid": "b1076dfc-b9ad-4769-8c92-a6c4dae69d19",
    "_uuid": "8f2839f25d086af736a60e9eeb907d3b93b6e0e5"
   },
   "outputs": [],
   "source": [
    "import os\n",
    "import csv\n",
    "import pandas as pd\n",
    "import numpy as np\n",
    "import matplotlib.pyplot as plt\n",
    "import seaborn as sns\n",
    "import re\n",
    "\n",
    "import statsmodels.api as sm\n",
    "\n",
    "from sklearn.model_selection import train_test_split\n",
    "from sklearn.linear_model import LinearRegression\n",
    "from sklearn.feature_selection import RFE\n",
    "\n",
    "from sklearn.linear_model import RidgeCV, LassoCV, Ridge, Lasso\n",
    "\n",
    "from sklearn import metrics\n",
    "\n",
    "import time\n",
    "import pickle \n",
    "\n",
    "import pandas as pd"
   ]
  },
  {
   "cell_type": "markdown",
   "metadata": {},
   "source": [
    "## Calculate the final score"
   ]
  },
  {
   "cell_type": "markdown",
   "metadata": {},
   "source": [
    "## Evaluation Metric:\n",
    "\n",
    "Our goal to to reduce unintented bias as much as possible so we will use a special matric. \n",
    "\n",
    "we are refering the following information from <a href=\"https://www.kaggle.com/c/jigsaw-unintended-bias-in-toxicity-classification/overview/evaluation\" target=\"_blank\"><b>here</b></a>.\n",
    "\n",
    "We will use metric that combines several submetrics to balance overall performance with various aspects of unintended bias.\n",
    "\n",
    "\n",
    "<ol>\n",
    "<li><b>Overall AUC</b><br>\n",
    "   This is the ROC-AUC for the full evaluation set.</li><br><br>\n",
    "\n",
    "<li><b>Bias AUCs</b><br>\n",
    "   Here we calculate the ROC-AUC on three specific subsets of the test set for each identity, each capturing a different      aspect of unintended bias.<br><br>\n",
    "\n",
    "<ol type=\"a\"><li><b>Subgroup AUC:</b><br> \n",
    "       Here, we restrict the data set to only the examples that mention the specific identity subgroup. A low value in this metric means the model does a poor job of distinguishing between toxic and non-toxic comments that mention the identity.</li><br>\n",
    "<li><b>BPSN (Background Positive, Subgroup Negative) AUC:</b><br> \n",
    "       Here, we restrict the test set to the non-toxic examples that mention the identity and the toxic examples that do not. A low value in this metric means that the model confuses non-toxic examples that mention the identity with toxic examples that do not, likely meaning that the model predicts higher toxicity scores than it should for non-toxic examples mentioning the identity.</li><br>\n",
    "\n",
    "<li><b>BNSP (Background Negative, Subgroup Positive) AUC:</b><br>\n",
    "       Here, we restrict the test set to the toxic examples that mention the identity and the non-toxic examples that do not. A low value here means that the model confuses toxic examples that mention the identity with non-toxic examples that do not, likely meaning that the model predicts lower toxicity scores than it should for toxic examples mentioning the identity.</li>\n",
    "</li><br><br>"
   ]
  },
  {
   "cell_type": "code",
   "execution_count": 2,
   "metadata": {
    "_cell_guid": "79c7e3d0-c299-4dcb-8224-4455121ee9b0",
    "_uuid": "d629ff2d2480ee46fbb7e2d37f6b5fab8052498a"
   },
   "outputs": [],
   "source": [
    "SUBGROUP_AUC = 'subgroup_auc'\n",
    "BPSN_AUC = 'bpsn_auc'  # stands for background positive, subgroup negative\n",
    "BNSP_AUC = 'bnsp_auc'  # stands for background negative, subgroup positive\n",
    "\n",
    "def compute_auc(y_true, y_pred):\n",
    "    try:\n",
    "        return metrics.roc_auc_score(y_true, y_pred)\n",
    "    except ValueError:\n",
    "        return np.nan\n",
    "\n",
    "def compute_subgroup_auc(df, subgroup, label, model_name):\n",
    "    subgroup_examples = df[df[subgroup]]\n",
    "    return compute_auc(subgroup_examples[label], subgroup_examples[model_name])\n",
    "\n",
    "def compute_bpsn_auc(df, subgroup, label, model_name):\n",
    "    \"\"\"Computes the AUC of the within-subgroup negative examples and the background positive examples.\"\"\"\n",
    "    subgroup_negative_examples = df[df[subgroup] & ~df[label]]\n",
    "    non_subgroup_positive_examples = df[~df[subgroup] & df[label]]\n",
    "    examples = subgroup_negative_examples.append(non_subgroup_positive_examples)\n",
    "    return compute_auc(examples[label], examples[model_name])\n",
    "\n",
    "def compute_bnsp_auc(df, subgroup, label, model_name):\n",
    "    \"\"\"Computes the AUC of the within-subgroup positive examples and the background negative examples.\"\"\"\n",
    "    subgroup_positive_examples = df[df[subgroup] & df[label]]\n",
    "    non_subgroup_negative_examples = df[~df[subgroup] & ~df[label]]\n",
    "    examples = subgroup_positive_examples.append(non_subgroup_negative_examples)\n",
    "    return compute_auc(examples[label], examples[model_name])\n",
    "\n",
    "def compute_bias_metrics_for_model(dataset,\n",
    "                                   subgroups,\n",
    "                                   model,\n",
    "                                   label_col,\n",
    "                                   include_asegs=False):\n",
    "    \"\"\"Computes per-subgroup metrics for all subgroups and one model.\"\"\"\n",
    "    records = []\n",
    "    for subgroup in subgroups:\n",
    "        record = {\n",
    "            'subgroup': subgroup,\n",
    "            'subgroup_size': len(dataset[dataset[subgroup]])\n",
    "        }\n",
    "        record[SUBGROUP_AUC] = compute_subgroup_auc(dataset, subgroup, label_col, model)\n",
    "        record[BPSN_AUC] = compute_bpsn_auc(dataset, subgroup, label_col, model)\n",
    "        record[BNSP_AUC] = compute_bnsp_auc(dataset, subgroup, label_col, model)\n",
    "        records.append(record)\n",
    "    return pd.DataFrame(records).sort_values('subgroup_auc', ascending=True)\n"
   ]
  },
  {
   "cell_type": "markdown",
   "metadata": {},
   "source": [
    "## Generalized Mean of Bias AUCs\n",
    "\n",
    "To combine the per-identity Bias AUCs into one overall measure, we calculate their generalized mean as defined below:\n",
    "\n",
    "$$M_p(m_s) = \\left(\\frac{1}{N} \\sum_{s=1}^{N} m_s^p\\right)^\\frac{1}{p}$$\n",
    "\n",
    "\n",
    "where: \n",
    "\n",
    "$$  M_p = the \\ pth\\ power\\ mean\\ function$$\n",
    "$$m_s = the\\ bias\\ metric\\ m \\ calulated \\ for \\ subgroup$$\n",
    "$$N = number \\ of \\ identity \\ subgroups$$\n",
    "\n",
    "## Final Metric\n",
    "\n",
    "$$score = w_0 AUC_{overall} + \\sum_{a=1}^{A} w_a M_p(m_{s,a})$$\n",
    "\n",
    "where:\n",
    "\n",
    "$$A = number \\ of \\ submetrics \\ (3)$$\n",
    "\n",
    "$$m_{s,a} = bias \\ metric \\ for \\ identity \\ subgroup \\ s \\ using \\ submetric \\ a$$\n",
    "\n",
    "$$w_a = a \\ weighting \\ for \\ the \\ relative \\ importance \\ of \\ each \\ submetric; \\ all \\ four \\ w \\ values \\ set \\ to \\ 0.25$$"
   ]
  },
  {
   "cell_type": "code",
   "execution_count": 3,
   "metadata": {},
   "outputs": [],
   "source": [
    "def calculate_overall_auc(df, model_name):\n",
    "    true_labels = df[TOXICITY_COLUMN]\n",
    "    predicted_labels = df[model_name]\n",
    "    return metrics.roc_auc_score(true_labels, predicted_labels)\n",
    "\n",
    "def power_mean(series, p):\n",
    "    total = sum(np.power(series, p))\n",
    "    return np.power(total / len(series), 1 / p)\n",
    "\n",
    "def get_final_metric(bias_df, overall_auc, POWER=-5, OVERALL_MODEL_WEIGHT=0.25):\n",
    "    bias_score = np.average([\n",
    "        power_mean(bias_df[SUBGROUP_AUC], POWER),\n",
    "        power_mean(bias_df[BPSN_AUC], POWER),\n",
    "        power_mean(bias_df[BNSP_AUC], POWER)\n",
    "    ])\n",
    "    return (OVERALL_MODEL_WEIGHT * overall_auc) + ((1 - OVERALL_MODEL_WEIGHT) * bias_score)\n",
    "    \n",
    "#get_final_metric(bias_metrics_df, calculate_overall_auc(X_test_TFIDF, MODEL_NAME))"
   ]
  },
  {
   "cell_type": "markdown",
   "metadata": {},
   "source": [
    "## 2. Data Pre-processing and vectorizing:"
   ]
  },
  {
   "cell_type": "code",
   "execution_count": 4,
   "metadata": {},
   "outputs": [],
   "source": [
    "train_embd = pd.read_csv('../input/jigsaw-unintended-bias-in-toxicity-classification/train.csv', sep=',', quotechar='\"')"
   ]
  },
  {
   "cell_type": "code",
   "execution_count": 5,
   "metadata": {},
   "outputs": [],
   "source": [
    "##REF:https://www.kaggle.com/christofhenkel/how-to-preprocessing-for-glove-part1-eda\n",
    "\n",
    "import operator \n",
    "\n",
    "def check_coverage(vocab,embeddings_index):\n",
    "    a = {}\n",
    "    oov = {}\n",
    "    k = 0\n",
    "    i = 0\n",
    "    for word in tqdm(vocab):\n",
    "        try:\n",
    "            a[word] = embeddings_index[word]\n",
    "            k += vocab[word]\n",
    "        except:\n",
    "\n",
    "            oov[word] = vocab[word]\n",
    "            i += vocab[word]\n",
    "            pass\n",
    "\n",
    "    print('Found embeddings for {:.2%} of vocab'.format(len(a) / len(vocab)))\n",
    "    print('Found embeddings for  {:.2%} of all text'.format(k / (k + i)))\n",
    "    sorted_x = sorted(oov.items(), key=operator.itemgetter(1))[::-1]\n",
    "\n",
    "    return sorted_x\n",
    "\n",
    "def build_vocab(sentences, verbose =  True):\n",
    "    \"\"\"\n",
    "    :param sentences: list of list of words\n",
    "    :return: dictionary of words and their count\n",
    "    \"\"\"\n",
    "    vocab = {}\n",
    "    for sentence in sentences:\n",
    "        for word in sentence:\n",
    "            try:\n",
    "                vocab[word] += 1\n",
    "            except KeyError:\n",
    "                vocab[word] = 1\n",
    "    return vocab"
   ]
  },
  {
   "cell_type": "code",
   "execution_count": 6,
   "metadata": {},
   "outputs": [],
   "source": [
    "def get_coefs(word, *arr):\n",
    "    return word, np.asarray(arr, dtype='float32')\n",
    "\n",
    "def load_embeddings(path):\n",
    "    with open(path,'rb') as f:\n",
    "        emb_arr = pickle.load(f)\n",
    "    return emb_arr\n",
    "\n",
    "def build_matrix(word_index, path):\n",
    "    embedding_index = load_embeddings(path)\n",
    "    embedding_matrix = np.zeros((len(word_index) + 1, 300))\n",
    "    unknown_words = []\n",
    "    \n",
    "    for word, i in word_index.items():\n",
    "        try:\n",
    "            embedding_matrix[i] = embedding_index[word]\n",
    "        except KeyError:\n",
    "            unknown_words.append(word)\n",
    "    return embedding_matrix, unknown_words"
   ]
  },
  {
   "cell_type": "code",
   "execution_count": 7,
   "metadata": {},
   "outputs": [
    {
     "name": "stdout",
     "output_type": "stream",
     "text": [
      "loaded 2196008 word vectors in 9.769924640655518s\n"
     ]
    }
   ],
   "source": [
    "\n",
    "GLOVE_EMBEDDING_PATH=\"../input/pickled-glove840b300d-for-10sec-loading/glove.840B.300d.pkl\"\n",
    "tic = time.time()\n",
    "glove_embeddings = load_embeddings(GLOVE_EMBEDDING_PATH)\n",
    "print(f'loaded {len(glove_embeddings)} word vectors in {time.time()-tic}s')"
   ]
  },
  {
   "cell_type": "code",
   "execution_count": 8,
   "metadata": {},
   "outputs": [
    {
     "data": {
      "text/plain": [
       "20"
      ]
     },
     "execution_count": 8,
     "metadata": {},
     "output_type": "execute_result"
    }
   ],
   "source": [
    "import gc\n",
    "del train_embd\n",
    "del glove_embeddings\n",
    "gc.collect()"
   ]
  },
  {
   "cell_type": "markdown",
   "metadata": {},
   "source": [
    "# Loading Preprocessed data"
   ]
  },
  {
   "cell_type": "code",
   "execution_count": 17,
   "metadata": {},
   "outputs": [],
   "source": [
    "train_embd = pd.read_csv('../input/jigshwpreprocesseddata/train_embd.csv', sep=',', quotechar='\"')"
   ]
  },
  {
   "cell_type": "code",
   "execution_count": 18,
   "metadata": {},
   "outputs": [
    {
     "data": {
      "text/plain": [
       "(1804874, 46)"
      ]
     },
     "execution_count": 18,
     "metadata": {},
     "output_type": "execute_result"
    }
   ],
   "source": [
    "train_embd.shape"
   ]
  },
  {
   "cell_type": "markdown",
   "metadata": {},
   "source": [
    "# Deep Learning Models"
   ]
  },
  {
   "cell_type": "code",
   "execution_count": 19,
   "metadata": {},
   "outputs": [],
   "source": [
    "from sklearn import model_selection\n",
    "from tensorflow.keras.preprocessing.text import Tokenizer\n",
    "from tensorflow.keras.utils import to_categorical\n",
    "from tensorflow.keras.preprocessing.sequence import pad_sequences\n",
    "\n",
    "from tensorflow.keras.optimizers import RMSprop\n",
    "from tensorflow.keras.models import Model\n",
    "from tensorflow.keras.models import load_model\n",
    "\n",
    "import numpy as np\n",
    "from tensorflow.keras.models import Sequential\n",
    "from tensorflow.keras.preprocessing import sequence\n",
    "\n",
    "\n",
    "\n",
    "import tensorflow as tf\n",
    "from tensorflow.keras import models, layers\n",
    "from tensorflow.keras.models import Model\n",
    "from tensorflow.keras.optimizers import Adam\n",
    "from tensorflow.keras.callbacks import ModelCheckpoint \n",
    "from tensorflow.keras.layers import Dense, Flatten, LSTM, Conv1D, MaxPooling1D, Dropout, Activation, Input,\\\n",
    " Embedding,BatchNormalization,Bidirectional,GlobalMaxPool1D,concatenate\n",
    "\n",
    "from tensorflow.keras.models import model_from_json  "
   ]
  },
  {
   "cell_type": "code",
   "execution_count": 21,
   "metadata": {},
   "outputs": [],
   "source": [
    "train_embd['comment_text'] = train_embd['comment_text'].astype(str) \n",
    "\n",
    "# List all identities\n",
    "identity_columns = [\n",
    "    'male', 'female', 'homosexual_gay_or_lesbian', 'christian', 'jewish',\n",
    "    'muslim', 'black', 'white', 'psychiatric_or_mental_illness']\n",
    "\n",
    "TOXICITY_COLUMN = 'target' \n",
    "\n",
    "# Converting taget and identity columns to booleans\n",
    "def convert_to_bool(df, col_name):\n",
    "    df[col_name] = np.where(df[col_name] >= 0.5, True, False)\n",
    "    \n",
    "def convert_dataframe_to_bool(df):\n",
    "    bool_df = df.copy()\n",
    "    for col in ['target'] + identity_columns:\n",
    "        convert_to_bool(bool_df, col)\n",
    "    return bool_df\n",
    "\n",
    "train_embd = convert_dataframe_to_bool(train_embd)    "
   ]
  },
  {
   "cell_type": "markdown",
   "metadata": {},
   "source": [
    "# Spliting Data in Train and Test"
   ]
  },
  {
   "cell_type": "code",
   "execution_count": 22,
   "metadata": {},
   "outputs": [
    {
     "name": "stdout",
     "output_type": "stream",
     "text": [
      "1624386 train comments, 180488 validate comments 360975 test comments\n"
     ]
    }
   ],
   "source": [
    "num_classes=2\n",
    "\n",
    "train_df, test_df = model_selection.train_test_split(train_embd, test_size=0.2)\n",
    "train_df, validate_df = model_selection.train_test_split(train_embd, test_size=0.1)\n",
    "# convert to one hot encoing \n",
    "y_train = tf.keras.utils.to_categorical(train_df['target'], num_classes)\n",
    "y_test= tf.keras.utils.to_categorical(test_df['target'], num_classes)\n",
    "y_validate = tf.keras.utils.to_categorical(validate_df['target'], num_classes)\n",
    "\n",
    "print('%d train comments, %d validate comments %d test comments' % (len(train_df), len(validate_df),len(test_df)))"
   ]
  },
  {
   "cell_type": "code",
   "execution_count": 24,
   "metadata": {},
   "outputs": [
    {
     "data": {
      "text/plain": [
       "140"
      ]
     },
     "execution_count": 24,
     "metadata": {},
     "output_type": "execute_result"
    }
   ],
   "source": [
    "import gc\n",
    "\n",
    "#delete when no longer needed\n",
    "del train_embd\n",
    "#collect residual garbage\n",
    "gc.collect()"
   ]
  },
  {
   "cell_type": "markdown",
   "metadata": {},
   "source": [
    "## Create a text tokenizer"
   ]
  },
  {
   "cell_type": "code",
   "execution_count": 26,
   "metadata": {},
   "outputs": [],
   "source": [
    "\n",
    "\n",
    "\n",
    "MAX_NUM_WORDS = 10000\n",
    "TOXICITY_COLUMN = 'target'\n",
    "TEXT_COLUMN = 'comment_text'\n",
    "\n",
    "# Create a text tokenizer.\n",
    "tokenizer = Tokenizer(num_words=MAX_NUM_WORDS)\n",
    "tokenizer.fit_on_texts(train_df[TEXT_COLUMN])\n",
    "\n",
    "# All comments must be truncated or padded to be the same length.\n",
    "MAX_SEQUENCE_LENGTH = 250\n",
    "def pad_text(texts, tokenizer):\n",
    "    return pad_sequences(tokenizer.texts_to_sequences(texts), maxlen=MAX_SEQUENCE_LENGTH)\n",
    "\n",
    "X_train = pad_text(train_df[TEXT_COLUMN], tokenizer)\n",
    "X_test = pad_text(test_df[TEXT_COLUMN], tokenizer)\n",
    "X_validate = pad_text(validate_df[TEXT_COLUMN], tokenizer)"
   ]
  },
  {
   "cell_type": "code",
   "execution_count": 27,
   "metadata": {},
   "outputs": [
    {
     "data": {
      "text/plain": [
       "20"
      ]
     },
     "execution_count": 27,
     "metadata": {},
     "output_type": "execute_result"
    }
   ],
   "source": [
    "#delete when no longer needed\n",
    "del train_df\n",
    "#del test_df\n",
    "del validate_df\n",
    "#collect residual garbage\n",
    "gc.collect()"
   ]
  },
  {
   "cell_type": "code",
   "execution_count": 28,
   "metadata": {},
   "outputs": [
    {
     "name": "stdout",
     "output_type": "stream",
     "text": [
      "n unknown words (glove):  199918\n"
     ]
    }
   ],
   "source": [
    "EMBEDDINGS_DIMENSION = 300\n",
    "glove_matrix, unknown_words_glove = build_matrix(tokenizer.word_index, GLOVE_EMBEDDING_PATH)\n",
    "print('n unknown words (glove): ', len(unknown_words_glove))"
   ]
  },
  {
   "cell_type": "code",
   "execution_count": 29,
   "metadata": {},
   "outputs": [
    {
     "data": {
      "text/plain": [
       "(352530, 300)"
      ]
     },
     "execution_count": 29,
     "metadata": {},
     "output_type": "execute_result"
    }
   ],
   "source": [
    "glove_matrix.shape"
   ]
  },
  {
   "cell_type": "code",
   "execution_count": 30,
   "metadata": {},
   "outputs": [],
   "source": [
    "\n",
    "\n",
    "import pickle\n",
    "\n",
    "# saving\n",
    "with open('tokenizer_2_layer_lstm.pickle', 'wb') as handle:\n",
    "    pickle.dump(tokenizer, handle)\n",
    "\n",
    "# loading\n",
    "#with open('tokenizer.pickle', 'rb') as handle:\n",
    "#    tokenizer = pickle.load(handle)\n",
    "\n"
   ]
  },
  {
   "cell_type": "markdown",
   "metadata": {},
   "source": [
    "## 2 Layer LSTM Model 2"
   ]
  },
  {
   "cell_type": "code",
   "execution_count": 31,
   "metadata": {},
   "outputs": [],
   "source": [
    "def simple_LSTM():\n",
    "    sequence_input = Input(shape=(MAX_SEQUENCE_LENGTH,), dtype='int32',name='inputs')\n",
    "    #inputs = Input(name='inputs',shape=[MAX_SEQUENCE_LENGTH])\n",
    "    embedding_layer = Embedding(len(tokenizer.word_index) + 1,\n",
    "                                        EMBEDDINGS_DIMENSION,\n",
    "                                        #weights=[embedding_matrix],\n",
    "                                        weights=[glove_matrix],  \n",
    "                                        input_length=MAX_SEQUENCE_LENGTH,\n",
    "                                        trainable=False)\n",
    "    layer = embedding_layer(sequence_input)\n",
    "    layer = LSTM(256,return_sequences=True)(layer)\n",
    "    layer = Dropout(0.5)(layer)\n",
    "    layer = LSTM(128)(layer)\n",
    "    layer = Dense(256,name='FC1')(layer)\n",
    "    layer = Activation('relu')(layer)\n",
    "\n",
    "    layer = Dropout(0.5)(layer)\n",
    "    layer = Dense(2,name='out_layer')(layer)\n",
    "    layer = Activation('sigmoid')(layer)\n",
    "\n",
    "    model = Model(inputs=sequence_input,outputs=layer)\n",
    "    return model"
   ]
  },
  {
   "cell_type": "code",
   "execution_count": 32,
   "metadata": {},
   "outputs": [
    {
     "name": "stdout",
     "output_type": "stream",
     "text": [
      "Model: \"model\"\n",
      "_________________________________________________________________\n",
      "Layer (type)                 Output Shape              Param #   \n",
      "=================================================================\n",
      "inputs (InputLayer)          [(None, 250)]             0         \n",
      "_________________________________________________________________\n",
      "embedding (Embedding)        (None, 250, 300)          105759000 \n",
      "_________________________________________________________________\n",
      "lstm (LSTM)                  (None, 250, 256)          570368    \n",
      "_________________________________________________________________\n",
      "dropout (Dropout)            (None, 250, 256)          0         \n",
      "_________________________________________________________________\n",
      "lstm_1 (LSTM)                (None, 128)               197120    \n",
      "_________________________________________________________________\n",
      "FC1 (Dense)                  (None, 256)               33024     \n",
      "_________________________________________________________________\n",
      "activation (Activation)      (None, 256)               0         \n",
      "_________________________________________________________________\n",
      "dropout_1 (Dropout)          (None, 256)               0         \n",
      "_________________________________________________________________\n",
      "out_layer (Dense)            (None, 2)                 514       \n",
      "_________________________________________________________________\n",
      "activation_1 (Activation)    (None, 2)                 0         \n",
      "=================================================================\n",
      "Total params: 106,560,026\n",
      "Trainable params: 801,026\n",
      "Non-trainable params: 105,759,000\n",
      "_________________________________________________________________\n"
     ]
    }
   ],
   "source": [
    "np.random.seed(7)\n",
    "LSTM_Model = simple_LSTM()\n",
    "LSTM_Model.summary()\n",
    "LSTM_Model.compile(loss='categorical_crossentropy',optimizer=Adam(),metrics=['accuracy'])"
   ]
  },
  {
   "cell_type": "code",
   "execution_count": 33,
   "metadata": {},
   "outputs": [
    {
     "data": {
      "image/png": "[encoded data removed]",
      "text/plain": [
       "<IPython.core.display.Image object>"
      ]
     },
     "execution_count": 33,
     "metadata": {},
     "output_type": "execute_result"
    }
   ],
   "source": [
    "from tensorflow.keras.utils import plot_model\n",
    "\n",
    "plot_model(LSTM_Model, 'LSTM_1.png', show_shapes=True)"
   ]
  },
  {
   "cell_type": "code",
   "execution_count": 34,
   "metadata": {},
   "outputs": [
    {
     "name": "stdout",
     "output_type": "stream",
     "text": [
      "Epoch 1/40\n",
      "3173/3173 [==============================] - ETA: 0s - loss: 0.1541 - accuracy: 0.9443\n",
      "Epoch 00001: val_loss improved from inf to 0.13988, saving model to weights_2_layer_lstm.best.hdf5\n",
      "3173/3173 [==============================] - 574s 181ms/step - loss: 0.1541 - accuracy: 0.9443 - val_loss: 0.1399 - val_accuracy: 0.9485\n",
      "Epoch 2/40\n",
      "3173/3173 [==============================] - ETA: 0s - loss: 0.1371 - accuracy: 0.9491\n",
      "Epoch 00002: val_loss improved from 0.13988 to 0.13490, saving model to weights_2_layer_lstm.best.hdf5\n",
      "3173/3173 [==============================] - 575s 181ms/step - loss: 0.1371 - accuracy: 0.9491 - val_loss: 0.1349 - val_accuracy: 0.9500\n",
      "Epoch 3/40\n",
      "3173/3173 [==============================] - ETA: 0s - loss: 0.1321 - accuracy: 0.9505\n",
      "Epoch 00003: val_loss did not improve from 0.13490\n",
      "3173/3173 [==============================] - 574s 181ms/step - loss: 0.1321 - accuracy: 0.9505 - val_loss: 0.1350 - val_accuracy: 0.9500\n",
      "Epoch 4/40\n",
      "3173/3173 [==============================] - ETA: 0s - loss: 0.1281 - accuracy: 0.9518\n",
      "Epoch 00004: val_loss improved from 0.13490 to 0.13215, saving model to weights_2_layer_lstm.best.hdf5\n",
      "3173/3173 [==============================] - 574s 181ms/step - loss: 0.1281 - accuracy: 0.9518 - val_loss: 0.1321 - val_accuracy: 0.9506\n",
      "Epoch 5/40\n",
      "3173/3173 [==============================] - ETA: 0s - loss: 0.1193 - accuracy: 0.9546\n",
      "Epoch 00006: val_loss did not improve from 0.13215\n",
      "3173/3173 [==============================] - 573s 181ms/step - loss: 0.1193 - accuracy: 0.9546 - val_loss: 0.1346 - val_accuracy: 0.9503\n",
      "Epoch 7/40\n",
      "3173/3173 [==============================] - ETA: 0s - loss: 0.0688 - accuracy: 0.9740\n",
      "Epoch 00016: val_loss did not improve from 0.13215\n",
      "3173/3173 [==============================] - 573s 181ms/step - loss: 0.0688 - accuracy: 0.9740 - val_loss: 0.1920 - val_accuracy: 0.9425\n",
      "Epoch 17/40\n",
      " 911/3173 [=======>......................] - ETA: 6:26 - loss: 0.0457 - accuracy: 0.9833\n",
      "Epoch 00026: val_loss did not improve from 0.13215\n",
      "3173/3173 [==============================] - 572s 180ms/step - loss: 0.0496 - accuracy: 0.9818 - val_loss: 0.2486 - val_accuracy: 0.9386\n",
      "Epoch 27/40\n",
      "3173/3173 [==============================] - ETA: 0s - loss: 0.0491 - accuracy: 0.9820\n",
      "Epoch 00027: val_loss did not improve from 0.13215\n",
      "3173/3173 [==============================] - 573s 181ms/step - loss: 0.0491 - accuracy: 0.9820 - val_loss: 0.2314 - val_accuracy: 0.9400\n",
      "Epoch 28/40\n",
      "3173/3173 [==============================] - ETA: 0s - loss: 0.0417 - accuracy: 0.9848\n",
      "Epoch 00038: val_loss did not improve from 0.13215\n",
      "3173/3173 [==============================] - 575s 181ms/step - loss: 0.0417 - accuracy: 0.9848 - val_loss: 0.2705 - val_accuracy: 0.9390\n",
      "Epoch 39/40\n",
      "  87/3173 [..............................] - ETA: 8:45 - loss: 0.0343 - accuracy: 0.9878"
     ]
    }
   ],
   "source": [
    "#https://www.kaggle.com/yuliagm/how-to-work-with-big-datasets-on-16g-ram-dask\n",
    "# checkpoint\n",
    "# Configure the TensorBoard callback and fit your model\n",
    "\n",
    "\n",
    "filepath=\"weights_2_layer_lstm.best.hdf5\"\n",
    "checkpoint = ModelCheckpoint(filepath, monitor='val_loss', verbose=1, save_best_only=True, mode='min')\n",
    "\n",
    "callbacks_list = [checkpoint]    \n",
    "\n",
    "history=LSTM_Model.fit(X_train, y_train, verbose=1,epochs=40,validation_data=(X_validate, y_validate) ,batch_size=512,callbacks=callbacks_list)"
   ]
  },
  {
   "cell_type": "code",
   "execution_count": 35,
   "metadata": {},
   "outputs": [
    {
     "data": {
      "text/plain": [
       "{'loss': [0.15411348640918732,\n",
       "  0.13706809282302856,\n",
       "  0.13209667801856995,\n",
       "  0.12809401750564575,\n",
       "  0.12394879758358002,\n",
       "  0.11928191035985947,\n",
       "  0.11387692391872406,\n",
       "  0.10800042003393173,\n",
       "  0.10167477279901505,\n",
       "  0.09529736638069153,\n",
       "  0.08933360129594803,\n",
       "  0.08410724997520447,\n",
       "  0.08029087632894516,\n",
       "  0.07587259262800217,\n",
       "  0.07171224802732468,\n",
       "  0.06876004487276077,\n",
       "  0.06626922637224197,\n",
       "  0.06336098164319992,\n",
       "  0.06082848459482193,\n",
       "  0.059035349637269974,\n",
       "  0.056947171688079834,\n",
       "  0.05504670366644859,\n",
       "  0.0536624938249588,\n",
       "  0.05225163698196411,\n",
       "  0.05127488821744919,\n",
       "  0.04962393268942833,\n",
       "  0.04909113422036171,\n",
       "  0.04806319996714592,\n",
       "  0.04721781238913536,\n",
       "  0.04642999544739723,\n",
       "  0.045313723385334015,\n",
       "  0.04488696902990341,\n",
       "  0.044211745262145996,\n",
       "  0.043607763946056366,\n",
       "  0.042796000838279724,\n",
       "  0.044942766427993774,\n",
       "  0.04283049702644348,\n",
       "  0.041733190417289734,\n",
       "  0.041297849267721176,\n",
       "  0.04171500355005264],\n",
       " 'accuracy': [0.944259524345398,\n",
       "  0.9491494297981262,\n",
       "  0.9505130052566528,\n",
       "  0.951829195022583,\n",
       "  0.953009307384491,\n",
       "  0.9545606970787048,\n",
       "  0.956467866897583,\n",
       "  0.9585720300674438,\n",
       "  0.9609397053718567,\n",
       "  0.9632839560508728,\n",
       "  0.9656017422676086,\n",
       "  0.9676702618598938,\n",
       "  0.9691581726074219,\n",
       "  0.9711368083953857,\n",
       "  0.9728789925575256,\n",
       "  0.9740320444107056,\n",
       "  0.9751377105712891,\n",
       "  0.9763048887252808,\n",
       "  0.9774290323257446,\n",
       "  0.9780661463737488,\n",
       "  0.9789742231369019,\n",
       "  0.9797289371490479,\n",
       "  0.9802183508872986,\n",
       "  0.9808530807495117,\n",
       "  0.9811769127845764,\n",
       "  0.9818041920661926,\n",
       "  0.981974720954895,\n",
       "  0.982465386390686,\n",
       "  0.9826623797416687,\n",
       "  0.9830600619316101,\n",
       "  0.9833032488822937,\n",
       "  0.9837039709091187,\n",
       "  0.9838788509368896,\n",
       "  0.9841041564941406,\n",
       "  0.984411358833313,\n",
       "  0.9835279583930969,\n",
       "  0.9842851161956787,\n",
       "  0.9847579598426819,\n",
       "  0.9848373532295227,\n",
       "  0.9847185611724854],\n",
       " 'val_loss': [0.13988159596920013,\n",
       "  0.1349031627178192,\n",
       "  0.13495784997940063,\n",
       "  0.1321467012166977,\n",
       "  0.13295266032218933,\n",
       "  0.13459794223308563,\n",
       "  0.1381969004869461,\n",
       "  0.14080563187599182,\n",
       "  0.14485283195972443,\n",
       "  0.1586054414510727,\n",
       "  0.17430424690246582,\n",
       "  0.17161160707473755,\n",
       "  0.18311505019664764,\n",
       "  0.17714525759220123,\n",
       "  0.19162994623184204,\n",
       "  0.19196566939353943,\n",
       "  0.2158288210630417,\n",
       "  0.19912201166152954,\n",
       "  0.2107437700033188,\n",
       "  0.2295255810022354,\n",
       "  0.2148880511522293,\n",
       "  0.23669318854808807,\n",
       "  0.22531981766223907,\n",
       "  0.24102388322353363,\n",
       "  0.23563553392887115,\n",
       "  0.24862103164196014,\n",
       "  0.2313796430826187,\n",
       "  0.26496583223342896,\n",
       "  0.2372933179140091,\n",
       "  0.2475064992904663,\n",
       "  0.2472880631685257,\n",
       "  0.25728118419647217,\n",
       "  0.2776997983455658,\n",
       "  0.26774704456329346,\n",
       "  0.25327253341674805,\n",
       "  0.25314709544181824,\n",
       "  0.2610539197921753,\n",
       "  0.2704969346523285,\n",
       "  0.2495531588792801,\n",
       "  0.2779625654220581],\n",
       " 'val_accuracy': [0.9484730362892151,\n",
       "  0.950013279914856,\n",
       "  0.9500243663787842,\n",
       "  0.9506227374076843,\n",
       "  0.9497307538986206,\n",
       "  0.9503180384635925,\n",
       "  0.9491323232650757,\n",
       "  0.9487057328224182,\n",
       "  0.947603166103363,\n",
       "  0.9468884468078613,\n",
       "  0.9448384642601013,\n",
       "  0.9448440074920654,\n",
       "  0.9446888566017151,\n",
       "  0.9437635540962219,\n",
       "  0.9409545063972473,\n",
       "  0.9424837231636047,\n",
       "  0.9426000714302063,\n",
       "  0.9419019818305969,\n",
       "  0.9415363073348999,\n",
       "  0.9401345252990723,\n",
       "  0.9400458931922913,\n",
       "  0.9402730464935303,\n",
       "  0.9397688508033752,\n",
       "  0.9400181770324707,\n",
       "  0.9394475221633911,\n",
       "  0.9385610222816467,\n",
       "  0.9399682879447937,\n",
       "  0.9388546347618103,\n",
       "  0.9390375018119812,\n",
       "  0.9399516582489014,\n",
       "  0.9382175207138062,\n",
       "  0.93970787525177,\n",
       "  0.9402397871017456,\n",
       "  0.9398630261421204,\n",
       "  0.9366605877876282,\n",
       "  0.9374529123306274,\n",
       "  0.9384058713912964,\n",
       "  0.938976526260376,\n",
       "  0.937934935092926,\n",
       "  0.9384834170341492]}"
      ]
     },
     "execution_count": 35,
     "metadata": {},
     "output_type": "execute_result"
    }
   ],
   "source": [
    "history.history"
   ]
  },
  {
   "cell_type": "code",
   "execution_count": 36,
   "metadata": {},
   "outputs": [
    {
     "data": {
      "image/png": "[encoded data removed]",
      "text/plain": [
       "<Figure size 432x288 with 1 Axes>"
      ]
     },
     "metadata": {
      "needs_background": "light"
     },
     "output_type": "display_data"
    }
   ],
   "source": [
    "loss_train = history.history['loss']\n",
    "loss_val = history.history['val_loss']\n",
    "#epochs = np.range(1,1)\n",
    "plt.plot(loss_train, 'g', label='Training loss')\n",
    "plt.plot(loss_val, 'b', label='validation loss')\n",
    "plt.title('Training and Validation loss')\n",
    "plt.xlabel('Epochs')\n",
    "plt.ylabel('Loss')\n",
    "plt.legend()\n",
    "plt.show()"
   ]
  },
  {
   "cell_type": "code",
   "execution_count": 37,
   "metadata": {},
   "outputs": [
    {
     "data": {
      "image/png": "[encoded data removed]",
      "text/plain": [
       "<Figure size 432x288 with 1 Axes>"
      ]
     },
     "metadata": {
      "needs_background": "light"
     },
     "output_type": "display_data"
    }
   ],
   "source": [
    "loss_train = history.history['accuracy']\n",
    "loss_val = history.history['val_accuracy']\n",
    "epochs = range(1,41)\n",
    "plt.plot(loss_train, 'g', label='Training accuracy')\n",
    "plt.plot(loss_val, 'b', label='validation accuracy')\n",
    "plt.title('Training and Validation accuracy')\n",
    "plt.xlabel('Epochs')\n",
    "plt.ylabel('Accuracy')\n",
    "plt.legend()\n",
    "plt.show()"
   ]
  },
  {
   "cell_type": "code",
   "execution_count": 38,
   "metadata": {},
   "outputs": [
    {
     "name": "stdout",
     "output_type": "stream",
     "text": [
      "0.9888662206655043\n"
     ]
    }
   ],
   "source": [
    "#new_model2 = tf.keras.models.load_model('/content/gdrive/My Drive/Checkpoints/Self Case Study 1/CNN LSTM Model 1/saved_model2')\n",
    "from sklearn.metrics import roc_auc_score\n",
    "predict_y = LSTM_Model.predict(X_test)\n",
    "print(roc_auc_score(test_df['target'].values, predict_y[:,1]))"
   ]
  },
  {
   "cell_type": "code",
   "execution_count": 39,
   "metadata": {},
   "outputs": [
    {
     "data": {
      "text/html": [
       "<div>\n",
       "<style scoped>\n",
       "    .dataframe tbody tr th:only-of-type {\n",
       "        vertical-align: middle;\n",
       "    }\n",
       "\n",
       "    .dataframe tbody tr th {\n",
       "        vertical-align: top;\n",
       "    }\n",
       "\n",
       "    .dataframe thead th {\n",
       "        text-align: right;\n",
       "    }\n",
       "</style>\n",
       "<table border=\"1\" class=\"dataframe\">\n",
       "  <thead>\n",
       "    <tr style=\"text-align: right;\">\n",
       "      <th></th>\n",
       "      <th>subgroup</th>\n",
       "      <th>subgroup_size</th>\n",
       "      <th>subgroup_auc</th>\n",
       "      <th>bpsn_auc</th>\n",
       "      <th>bnsp_auc</th>\n",
       "    </tr>\n",
       "  </thead>\n",
       "  <tbody>\n",
       "    <tr>\n",
       "      <th>2</th>\n",
       "      <td>homosexual_gay_or_lesbian</td>\n",
       "      <td>2197</td>\n",
       "      <td>0.965013</td>\n",
       "      <td>0.970572</td>\n",
       "      <td>0.988044</td>\n",
       "    </tr>\n",
       "    <tr>\n",
       "      <th>6</th>\n",
       "      <td>black</td>\n",
       "      <td>2917</td>\n",
       "      <td>0.965347</td>\n",
       "      <td>0.960474</td>\n",
       "      <td>0.990871</td>\n",
       "    </tr>\n",
       "    <tr>\n",
       "      <th>5</th>\n",
       "      <td>muslim</td>\n",
       "      <td>4187</td>\n",
       "      <td>0.966985</td>\n",
       "      <td>0.973648</td>\n",
       "      <td>0.985956</td>\n",
       "    </tr>\n",
       "    <tr>\n",
       "      <th>7</th>\n",
       "      <td>white</td>\n",
       "      <td>5046</td>\n",
       "      <td>0.973773</td>\n",
       "      <td>0.967054</td>\n",
       "      <td>0.992478</td>\n",
       "    </tr>\n",
       "    <tr>\n",
       "      <th>0</th>\n",
       "      <td>male</td>\n",
       "      <td>8872</td>\n",
       "      <td>0.981104</td>\n",
       "      <td>0.980703</td>\n",
       "      <td>0.989539</td>\n",
       "    </tr>\n",
       "    <tr>\n",
       "      <th>1</th>\n",
       "      <td>female</td>\n",
       "      <td>10609</td>\n",
       "      <td>0.983467</td>\n",
       "      <td>0.982716</td>\n",
       "      <td>0.989725</td>\n",
       "    </tr>\n",
       "    <tr>\n",
       "      <th>4</th>\n",
       "      <td>jewish</td>\n",
       "      <td>1489</td>\n",
       "      <td>0.987129</td>\n",
       "      <td>0.981385</td>\n",
       "      <td>0.993296</td>\n",
       "    </tr>\n",
       "    <tr>\n",
       "      <th>8</th>\n",
       "      <td>psychiatric_or_mental_illness</td>\n",
       "      <td>979</td>\n",
       "      <td>0.988445</td>\n",
       "      <td>0.980533</td>\n",
       "      <td>0.994591</td>\n",
       "    </tr>\n",
       "    <tr>\n",
       "      <th>3</th>\n",
       "      <td>christian</td>\n",
       "      <td>8030</td>\n",
       "      <td>0.988464</td>\n",
       "      <td>0.987216</td>\n",
       "      <td>0.990317</td>\n",
       "    </tr>\n",
       "  </tbody>\n",
       "</table>\n",
       "</div>"
      ],
      "text/plain": [
       "                        subgroup  subgroup_size  subgroup_auc  bpsn_auc  \\\n",
       "2      homosexual_gay_or_lesbian           2197      0.965013  0.970572   \n",
       "6                          black           2917      0.965347  0.960474   \n",
       "5                         muslim           4187      0.966985  0.973648   \n",
       "7                          white           5046      0.973773  0.967054   \n",
       "0                           male           8872      0.981104  0.980703   \n",
       "1                         female          10609      0.983467  0.982716   \n",
       "4                         jewish           1489      0.987129  0.981385   \n",
       "8  psychiatric_or_mental_illness            979      0.988445  0.980533   \n",
       "3                      christian           8030      0.988464  0.987216   \n",
       "\n",
       "   bnsp_auc  \n",
       "2  0.988044  \n",
       "6  0.990871  \n",
       "5  0.985956  \n",
       "7  0.992478  \n",
       "0  0.989539  \n",
       "1  0.989725  \n",
       "4  0.993296  \n",
       "8  0.994591  \n",
       "3  0.990317  "
      ]
     },
     "execution_count": 39,
     "metadata": {},
     "output_type": "execute_result"
    }
   ],
   "source": [
    "predict_y = LSTM_Model.predict(X_test)\n",
    "MODEL_NAME = 'LSTM_Model'\n",
    "test_df[MODEL_NAME] = list(predict_y[:,1])\n",
    "bias_metrics_df = compute_bias_metrics_for_model(test_df, identity_columns, MODEL_NAME, TOXICITY_COLUMN)\n",
    "bias_metrics_df"
   ]
  },
  {
   "cell_type": "code",
   "execution_count": 40,
   "metadata": {},
   "outputs": [
    {
     "data": {
      "text/plain": [
       "0.9831698701972393"
      ]
     },
     "execution_count": 40,
     "metadata": {},
     "output_type": "execute_result"
    }
   ],
   "source": [
    "LSTM_model_Model_1=get_final_metric(bias_metrics_df, calculate_overall_auc(test_df, MODEL_NAME))\n",
    "LSTM_model_Model_1"
   ]
  },
  {
   "cell_type": "markdown",
   "metadata": {},
   "source": [
    "# Submit"
   ]
  },
  {
   "cell_type": "code",
   "execution_count": 41,
   "metadata": {},
   "outputs": [],
   "source": [
    "test_embd = pd.read_csv('../input/jigshwpreprocesseddata/test_sub.csv', sep=',', quotechar='\"')\n",
    "test_embd['comment_text'] = test_embd['comment_text'].astype(str)\n",
    "X_test_sub = pad_text(test_embd['comment_text'], tokenizer)\n",
    "predict_y = LSTM_Model.predict(X_test_sub)\n",
    "test_embd['prediction'] = list(predict_y[:,1])"
   ]
  },
  {
   "cell_type": "code",
   "execution_count": 42,
   "metadata": {},
   "outputs": [],
   "source": [
    "submission = pd.DataFrame.from_dict({\n",
    "    'id': test_embd['id'],\n",
    "    'prediction': list(predict_y[:,1])\n",
    "})"
   ]
  },
  {
   "cell_type": "code",
   "execution_count": 43,
   "metadata": {},
   "outputs": [
    {
     "data": {
      "text/html": [
       "<div>\n",
       "<style scoped>\n",
       "    .dataframe tbody tr th:only-of-type {\n",
       "        vertical-align: middle;\n",
       "    }\n",
       "\n",
       "    .dataframe tbody tr th {\n",
       "        vertical-align: top;\n",
       "    }\n",
       "\n",
       "    .dataframe thead th {\n",
       "        text-align: right;\n",
       "    }\n",
       "</style>\n",
       "<table border=\"1\" class=\"dataframe\">\n",
       "  <thead>\n",
       "    <tr style=\"text-align: right;\">\n",
       "      <th></th>\n",
       "      <th>id</th>\n",
       "      <th>prediction</th>\n",
       "    </tr>\n",
       "  </thead>\n",
       "  <tbody>\n",
       "    <tr>\n",
       "      <th>0</th>\n",
       "      <td>7097320</td>\n",
       "      <td>6.519426e-06</td>\n",
       "    </tr>\n",
       "    <tr>\n",
       "      <th>1</th>\n",
       "      <td>7097321</td>\n",
       "      <td>1.097627e-03</td>\n",
       "    </tr>\n",
       "    <tr>\n",
       "      <th>2</th>\n",
       "      <td>7097322</td>\n",
       "      <td>7.326589e-07</td>\n",
       "    </tr>\n",
       "    <tr>\n",
       "      <th>3</th>\n",
       "      <td>7097323</td>\n",
       "      <td>1.868310e-07</td>\n",
       "    </tr>\n",
       "    <tr>\n",
       "      <th>4</th>\n",
       "      <td>7097324</td>\n",
       "      <td>9.303029e-06</td>\n",
       "    </tr>\n",
       "  </tbody>\n",
       "</table>\n",
       "</div>"
      ],
      "text/plain": [
       "        id    prediction\n",
       "0  7097320  6.519426e-06\n",
       "1  7097321  1.097627e-03\n",
       "2  7097322  7.326589e-07\n",
       "3  7097323  1.868310e-07\n",
       "4  7097324  9.303029e-06"
      ]
     },
     "execution_count": 43,
     "metadata": {},
     "output_type": "execute_result"
    }
   ],
   "source": [
    "submission.head()"
   ]
  },
  {
   "cell_type": "code",
   "execution_count": 44,
   "metadata": {},
   "outputs": [],
   "source": [
    "submission.to_csv('submission.csv', index=False)"
   ]
  },
  {
   "cell_type": "markdown",
   "metadata": {},
   "source": [
    "## **AUC Score on Test Data is 0.98898**\n",
    "## **Evaluation Metric Score on Test Data is 0.98339**\n",
    "## **Kaggle Score for submission test file on Private leaderboard: 0.86595**<br>\n",
    "<img src=\"https://i.ibb.co/B3qCS0D/lstm-2-layer.png\" alt=\"lstm-2-layer\" border=\"0\">"
   ]
  },
  {
   "cell_type": "code",
   "execution_count": null,
   "metadata": {},
   "outputs": [],
   "source": []
  }
 ],
 "metadata": {
  "kernelspec": {
   "display_name": "Python 3",
   "language": "python",
   "name": "python3"
  },
  "language_info": {
   "codemirror_mode": {
    "name": "ipython",
    "version": 3
   },
   "file_extension": ".py",
   "mimetype": "text/x-python",
   "name": "python",
   "nbconvert_exporter": "python",
   "pygments_lexer": "ipython3",
   "version": "3.6.9"
  }
 },
 "nbformat": 4,
 "nbformat_minor": 4
}

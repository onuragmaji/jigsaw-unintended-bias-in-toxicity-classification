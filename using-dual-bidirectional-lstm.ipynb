{
 "cells": [
  {
   "cell_type": "code",
   "execution_count": 1,
   "metadata": {
    "_cell_guid": "b1076dfc-b9ad-4769-8c92-a6c4dae69d19",
    "_uuid": "8f2839f25d086af736a60e9eeb907d3b93b6e0e5"
   },
   "outputs": [],
   "source": [
    "import os\n",
    "import csv\n",
    "import pandas as pd\n",
    "import numpy as np\n",
    "import matplotlib.pyplot as plt\n",
    "import seaborn as sns\n",
    "import re\n",
    "\n",
    "import statsmodels.api as sm\n",
    "\n",
    "from sklearn.model_selection import train_test_split\n",
    "from sklearn.linear_model import LinearRegression\n",
    "from sklearn.feature_selection import RFE\n",
    "\n",
    "from sklearn.linear_model import RidgeCV, LassoCV, Ridge, Lasso\n",
    "\n",
    "from sklearn import metrics\n",
    "\n",
    "import time\n",
    "import pickle \n",
    "\n",
    "import pandas as pd"
   ]
  },
  {
   "cell_type": "markdown",
   "metadata": {},
   "source": [
    "## Calculate the final score"
   ]
  },
  {
   "cell_type": "markdown",
   "metadata": {},
   "source": [
    "## Evaluation Metric:\n",
    "\n",
    "Our goal to to reduce unintented bias as much as possible so we will use a special matric. \n",
    "\n",
    "we are refering the following information from <a href=\"https://www.kaggle.com/c/jigsaw-unintended-bias-in-toxicity-classification/overview/evaluation\" target=\"_blank\"><b>here</b></a>.\n",
    "\n",
    "We will use metric that combines several submetrics to balance overall performance with various aspects of unintended bias.\n",
    "\n",
    "\n",
    "<ol>\n",
    "<li><b>Overall AUC</b><br>\n",
    "   This is the ROC-AUC for the full evaluation set.</li><br><br>\n",
    "\n",
    "<li><b>Bias AUCs</b><br>\n",
    "   Here we calculate the ROC-AUC on three specific subsets of the test set for each identity, each capturing a different      aspect of unintended bias.<br><br>\n",
    "\n",
    "<ol type=\"a\"><li><b>Subgroup AUC:</b><br> \n",
    "       Here, we restrict the data set to only the examples that mention the specific identity subgroup. A low value in this metric means the model does a poor job of distinguishing between toxic and non-toxic comments that mention the identity.</li><br>\n",
    "<li><b>BPSN (Background Positive, Subgroup Negative) AUC:</b><br> \n",
    "       Here, we restrict the test set to the non-toxic examples that mention the identity and the toxic examples that do not. A low value in this metric means that the model confuses non-toxic examples that mention the identity with toxic examples that do not, likely meaning that the model predicts higher toxicity scores than it should for non-toxic examples mentioning the identity.</li><br>\n",
    "\n",
    "<li><b>BNSP (Background Negative, Subgroup Positive) AUC:</b><br>\n",
    "       Here, we restrict the test set to the toxic examples that mention the identity and the non-toxic examples that do not. A low value here means that the model confuses toxic examples that mention the identity with non-toxic examples that do not, likely meaning that the model predicts lower toxicity scores than it should for toxic examples mentioning the identity.</li>\n",
    "</li><br><br>"
   ]
  },
  {
   "cell_type": "code",
   "execution_count": 2,
   "metadata": {
    "_cell_guid": "79c7e3d0-c299-4dcb-8224-4455121ee9b0",
    "_uuid": "d629ff2d2480ee46fbb7e2d37f6b5fab8052498a"
   },
   "outputs": [],
   "source": [
    "SUBGROUP_AUC = 'subgroup_auc'\n",
    "BPSN_AUC = 'bpsn_auc'  # stands for background positive, subgroup negative\n",
    "BNSP_AUC = 'bnsp_auc'  # stands for background negative, subgroup positive\n",
    "\n",
    "def compute_auc(y_true, y_pred):\n",
    "    try:\n",
    "        return metrics.roc_auc_score(y_true, y_pred)\n",
    "    except ValueError:\n",
    "        return np.nan\n",
    "\n",
    "def compute_subgroup_auc(df, subgroup, label, model_name):\n",
    "    subgroup_examples = df[df[subgroup]]\n",
    "    return compute_auc(subgroup_examples[label], subgroup_examples[model_name])\n",
    "\n",
    "def compute_bpsn_auc(df, subgroup, label, model_name):\n",
    "    \"\"\"Computes the AUC of the within-subgroup negative examples and the background positive examples.\"\"\"\n",
    "    subgroup_negative_examples = df[df[subgroup] & ~df[label]]\n",
    "    non_subgroup_positive_examples = df[~df[subgroup] & df[label]]\n",
    "    examples = subgroup_negative_examples.append(non_subgroup_positive_examples)\n",
    "    return compute_auc(examples[label], examples[model_name])\n",
    "\n",
    "def compute_bnsp_auc(df, subgroup, label, model_name):\n",
    "    \"\"\"Computes the AUC of the within-subgroup positive examples and the background negative examples.\"\"\"\n",
    "    subgroup_positive_examples = df[df[subgroup] & df[label]]\n",
    "    non_subgroup_negative_examples = df[~df[subgroup] & ~df[label]]\n",
    "    examples = subgroup_positive_examples.append(non_subgroup_negative_examples)\n",
    "    return compute_auc(examples[label], examples[model_name])\n",
    "\n",
    "def compute_bias_metrics_for_model(dataset,\n",
    "                                   subgroups,\n",
    "                                   model,\n",
    "                                   label_col,\n",
    "                                   include_asegs=False):\n",
    "    \"\"\"Computes per-subgroup metrics for all subgroups and one model.\"\"\"\n",
    "    records = []\n",
    "    for subgroup in subgroups:\n",
    "        record = {\n",
    "            'subgroup': subgroup,\n",
    "            'subgroup_size': len(dataset[dataset[subgroup]])\n",
    "        }\n",
    "        record[SUBGROUP_AUC] = compute_subgroup_auc(dataset, subgroup, label_col, model)\n",
    "        record[BPSN_AUC] = compute_bpsn_auc(dataset, subgroup, label_col, model)\n",
    "        record[BNSP_AUC] = compute_bnsp_auc(dataset, subgroup, label_col, model)\n",
    "        records.append(record)\n",
    "    return pd.DataFrame(records).sort_values('subgroup_auc', ascending=True)\n"
   ]
  },
  {
   "cell_type": "markdown",
   "metadata": {},
   "source": [
    "## Generalized Mean of Bias AUCs\n",
    "\n",
    "To combine the per-identity Bias AUCs into one overall measure, we calculate their generalized mean as defined below:\n",
    "\n",
    "$$M_p(m_s) = \\left(\\frac{1}{N} \\sum_{s=1}^{N} m_s^p\\right)^\\frac{1}{p}$$\n",
    "\n",
    "\n",
    "where: \n",
    "\n",
    "$$  M_p = the \\ pth\\ power\\ mean\\ function$$\n",
    "$$m_s = the\\ bias\\ metric\\ m \\ calulated \\ for \\ subgroup$$\n",
    "$$N = number \\ of \\ identity \\ subgroups$$\n",
    "\n",
    "## Final Metric\n",
    "\n",
    "$$score = w_0 AUC_{overall} + \\sum_{a=1}^{A} w_a M_p(m_{s,a})$$\n",
    "\n",
    "where:\n",
    "\n",
    "$$A = number \\ of \\ submetrics \\ (3)$$\n",
    "\n",
    "$$m_{s,a} = bias \\ metric \\ for \\ identity \\ subgroup \\ s \\ using \\ submetric \\ a$$\n",
    "\n",
    "$$w_a = a \\ weighting \\ for \\ the \\ relative \\ importance \\ of \\ each \\ submetric; \\ all \\ four \\ w \\ values \\ set \\ to \\ 0.25$$"
   ]
  },
  {
   "cell_type": "code",
   "execution_count": 3,
   "metadata": {},
   "outputs": [],
   "source": [
    "def calculate_overall_auc(df, model_name):\n",
    "    true_labels = df[TOXICITY_COLUMN]\n",
    "    predicted_labels = df[model_name]\n",
    "    return metrics.roc_auc_score(true_labels, predicted_labels)\n",
    "\n",
    "def power_mean(series, p):\n",
    "    total = sum(np.power(series, p))\n",
    "    return np.power(total / len(series), 1 / p)\n",
    "\n",
    "def get_final_metric(bias_df, overall_auc, POWER=-5, OVERALL_MODEL_WEIGHT=0.25):\n",
    "    bias_score = np.average([\n",
    "        power_mean(bias_df[SUBGROUP_AUC], POWER),\n",
    "        power_mean(bias_df[BPSN_AUC], POWER),\n",
    "        power_mean(bias_df[BNSP_AUC], POWER)\n",
    "    ])\n",
    "    return (OVERALL_MODEL_WEIGHT * overall_auc) + ((1 - OVERALL_MODEL_WEIGHT) * bias_score)\n",
    "    \n",
    "#get_final_metric(bias_metrics_df, calculate_overall_auc(X_test_TFIDF, MODEL_NAME))"
   ]
  },
  {
   "cell_type": "markdown",
   "metadata": {},
   "source": [
    "## 2. Data Pre-processing and vectorizing:"
   ]
  },
  {
   "cell_type": "code",
   "execution_count": 4,
   "metadata": {},
   "outputs": [],
   "source": [
    "train_embd = pd.read_csv('../input/jigsaw-unintended-bias-in-toxicity-classification/train.csv', sep=',', quotechar='\"')"
   ]
  },
  {
   "cell_type": "code",
   "execution_count": 5,
   "metadata": {},
   "outputs": [],
   "source": [
    "##REF:https://www.kaggle.com/christofhenkel/how-to-preprocessing-for-glove-part1-eda\n",
    "\n",
    "import operator \n",
    "\n",
    "def check_coverage(vocab,embeddings_index):\n",
    "    a = {}\n",
    "    oov = {}\n",
    "    k = 0\n",
    "    i = 0\n",
    "    for word in tqdm(vocab):\n",
    "        try:\n",
    "            a[word] = embeddings_index[word]\n",
    "            k += vocab[word]\n",
    "        except:\n",
    "\n",
    "            oov[word] = vocab[word]\n",
    "            i += vocab[word]\n",
    "            pass\n",
    "\n",
    "    print('Found embeddings for {:.2%} of vocab'.format(len(a) / len(vocab)))\n",
    "    print('Found embeddings for  {:.2%} of all text'.format(k / (k + i)))\n",
    "    sorted_x = sorted(oov.items(), key=operator.itemgetter(1))[::-1]\n",
    "\n",
    "    return sorted_x\n",
    "\n",
    "def build_vocab(sentences, verbose =  True):\n",
    "    \"\"\"\n",
    "    :param sentences: list of list of words\n",
    "    :return: dictionary of words and their count\n",
    "    \"\"\"\n",
    "    vocab = {}\n",
    "    for sentence in sentences:\n",
    "        for word in sentence:\n",
    "            try:\n",
    "                vocab[word] += 1\n",
    "            except KeyError:\n",
    "                vocab[word] = 1\n",
    "    return vocab"
   ]
  },
  {
   "cell_type": "code",
   "execution_count": 6,
   "metadata": {},
   "outputs": [],
   "source": [
    "def get_coefs(word, *arr):\n",
    "    return word, np.asarray(arr, dtype='float32')\n",
    "\n",
    "def load_embeddings(path):\n",
    "    with open(path,'rb') as f:\n",
    "        emb_arr = pickle.load(f)\n",
    "    return emb_arr\n",
    "\n",
    "def build_matrix(word_index, path):\n",
    "    embedding_index = load_embeddings(path)\n",
    "    embedding_matrix = np.zeros((len(word_index) + 1, 300))\n",
    "    unknown_words = []\n",
    "    \n",
    "    for word, i in word_index.items():\n",
    "        try:\n",
    "            embedding_matrix[i] = embedding_index[word]\n",
    "        except KeyError:\n",
    "            unknown_words.append(word)\n",
    "    return embedding_matrix, unknown_words"
   ]
  },
  {
   "cell_type": "code",
   "execution_count": 7,
   "metadata": {},
   "outputs": [
    {
     "name": "stdout",
     "output_type": "stream",
     "text": [
      "loaded 2196008 word vectors in 9.850727558135986s\n"
     ]
    }
   ],
   "source": [
    "\n",
    "GLOVE_EMBEDDING_PATH=\"../input/pickled-glove840b300d-for-10sec-loading/glove.840B.300d.pkl\"\n",
    "tic = time.time()\n",
    "glove_embeddings = load_embeddings(GLOVE_EMBEDDING_PATH)\n",
    "print(f'loaded {len(glove_embeddings)} word vectors in {time.time()-tic}s')"
   ]
  },
  {
   "cell_type": "code",
   "execution_count": 8,
   "metadata": {},
   "outputs": [
    {
     "data": {
      "text/plain": [
       "20"
      ]
     },
     "execution_count": 8,
     "metadata": {},
     "output_type": "execute_result"
    }
   ],
   "source": [
    "import gc\n",
    "del train_embd\n",
    "del glove_embeddings\n",
    "gc.collect()"
   ]
  },
  {
   "cell_type": "markdown",
   "metadata": {},
   "source": [
    "# Loading Preprocessed data"
   ]
  },
  {
   "cell_type": "code",
   "execution_count": 17,
   "metadata": {},
   "outputs": [],
   "source": [
    "train_embd = pd.read_csv('../input/jigshwpreprocesseddata/train_embd.csv', sep=',', quotechar='\"')"
   ]
  },
  {
   "cell_type": "code",
   "execution_count": 18,
   "metadata": {},
   "outputs": [
    {
     "data": {
      "text/plain": [
       "(1804874, 46)"
      ]
     },
     "execution_count": 18,
     "metadata": {},
     "output_type": "execute_result"
    }
   ],
   "source": [
    "train_embd.shape"
   ]
  },
  {
   "cell_type": "markdown",
   "metadata": {},
   "source": [
    "# Deep Learning Models"
   ]
  },
  {
   "cell_type": "code",
   "execution_count": 19,
   "metadata": {},
   "outputs": [],
   "source": [
    "from sklearn import model_selection\n",
    "from tensorflow.keras.preprocessing.text import Tokenizer\n",
    "from tensorflow.keras.utils import to_categorical\n",
    "from tensorflow.keras.preprocessing.sequence import pad_sequences\n",
    "\n",
    "from tensorflow.keras.optimizers import RMSprop\n",
    "from tensorflow.keras.models import Model\n",
    "from tensorflow.keras.models import load_model\n",
    "\n",
    "import numpy as np\n",
    "from tensorflow.keras.models import Sequential\n",
    "from tensorflow.keras.preprocessing import sequence\n",
    "\n",
    "\n",
    "\n",
    "import tensorflow as tf\n",
    "from tensorflow.keras import models, layers\n",
    "from tensorflow.keras.models import Model\n",
    "from tensorflow.keras.optimizers import Adam\n",
    "from tensorflow.keras.callbacks import ModelCheckpoint \n",
    "from tensorflow.keras.layers import Dense, Flatten, LSTM, Conv1D, MaxPooling1D, Dropout, Activation, Input,\\\n",
    " Embedding,BatchNormalization,Bidirectional,GlobalMaxPool1D,concatenate\n",
    "\n",
    "from tensorflow.keras.models import model_from_json  "
   ]
  },
  {
   "cell_type": "code",
   "execution_count": 20,
   "metadata": {},
   "outputs": [],
   "source": [
    "train_embd['comment_text'] = train_embd['comment_text'].astype(str) \n",
    "\n",
    "# List all identities\n",
    "identity_columns = [\n",
    "    'male', 'female', 'homosexual_gay_or_lesbian', 'christian', 'jewish',\n",
    "    'muslim', 'black', 'white', 'psychiatric_or_mental_illness']\n",
    "\n",
    "TOXICITY_COLUMN = 'target' \n",
    "\n",
    "# Converting taget and identity columns to booleans\n",
    "def convert_to_bool(df, col_name):\n",
    "    df[col_name] = np.where(df[col_name] >= 0.5, True, False)\n",
    "    \n",
    "def convert_dataframe_to_bool(df):\n",
    "    bool_df = df.copy()\n",
    "    for col in ['target'] + identity_columns:\n",
    "        convert_to_bool(bool_df, col)\n",
    "    return bool_df\n",
    "\n",
    "train_embd = convert_dataframe_to_bool(train_embd)    "
   ]
  },
  {
   "cell_type": "markdown",
   "metadata": {},
   "source": [
    "# Spliting Data in Train and Test"
   ]
  },
  {
   "cell_type": "code",
   "execution_count": 21,
   "metadata": {},
   "outputs": [
    {
     "name": "stdout",
     "output_type": "stream",
     "text": [
      "1624386 train comments, 180488 validate comments 360975 test comments\n"
     ]
    }
   ],
   "source": [
    "num_classes=2\n",
    "\n",
    "train_df, test_df = model_selection.train_test_split(train_embd, test_size=0.2)\n",
    "train_df, validate_df = model_selection.train_test_split(train_embd, test_size=0.1)\n",
    "# convert to one hot encoing \n",
    "y_train = tf.keras.utils.to_categorical(train_df['target'], num_classes)\n",
    "y_test= tf.keras.utils.to_categorical(test_df['target'], num_classes)\n",
    "y_validate = tf.keras.utils.to_categorical(validate_df['target'], num_classes)\n",
    "\n",
    "print('%d train comments, %d validate comments %d test comments' % (len(train_df), len(validate_df),len(test_df)))"
   ]
  },
  {
   "cell_type": "code",
   "execution_count": 22,
   "metadata": {},
   "outputs": [
    {
     "data": {
      "text/plain": [
       "100"
      ]
     },
     "execution_count": 22,
     "metadata": {},
     "output_type": "execute_result"
    }
   ],
   "source": [
    "import gc\n",
    "\n",
    "#delete when no longer needed\n",
    "del train_embd\n",
    "#collect residual garbage\n",
    "gc.collect()"
   ]
  },
  {
   "cell_type": "markdown",
   "metadata": {},
   "source": [
    "## Create a text tokenizer"
   ]
  },
  {
   "cell_type": "code",
   "execution_count": 24,
   "metadata": {},
   "outputs": [],
   "source": [
    "MAX_NUM_WORDS = 10000\n",
    "TOXICITY_COLUMN = 'target'\n",
    "TEXT_COLUMN = 'comment_text'\n",
    "\n",
    "# Create a text tokenizer.\n",
    "tokenizer = Tokenizer(num_words=MAX_NUM_WORDS)\n",
    "tokenizer.fit_on_texts(train_df[TEXT_COLUMN])\n",
    "\n",
    "# All comments must be truncated or padded to be the same length.\n",
    "MAX_SEQUENCE_LENGTH = 250\n",
    "def pad_text(texts, tokenizer):\n",
    "    return pad_sequences(tokenizer.texts_to_sequences(texts), maxlen=MAX_SEQUENCE_LENGTH)\n",
    "\n",
    "X_train = pad_text(train_df[TEXT_COLUMN], tokenizer)\n",
    "X_test = pad_text(test_df[TEXT_COLUMN], tokenizer)\n",
    "X_validate = pad_text(validate_df[TEXT_COLUMN], tokenizer)"
   ]
  },
  {
   "cell_type": "code",
   "execution_count": 25,
   "metadata": {},
   "outputs": [
    {
     "data": {
      "text/plain": [
       "20"
      ]
     },
     "execution_count": 25,
     "metadata": {},
     "output_type": "execute_result"
    }
   ],
   "source": [
    "#delete when no longer needed\n",
    "del train_df\n",
    "#del test_df\n",
    "del validate_df\n",
    "#collect residual garbage\n",
    "gc.collect()"
   ]
  },
  {
   "cell_type": "code",
   "execution_count": 26,
   "metadata": {},
   "outputs": [
    {
     "name": "stdout",
     "output_type": "stream",
     "text": [
      "n unknown words (glove):  200149\n"
     ]
    }
   ],
   "source": [
    "EMBEDDINGS_DIMENSION = 300\n",
    "glove_matrix, unknown_words_glove = build_matrix(tokenizer.word_index, GLOVE_EMBEDDING_PATH)\n",
    "print('n unknown words (glove): ', len(unknown_words_glove))"
   ]
  },
  {
   "cell_type": "code",
   "execution_count": 27,
   "metadata": {},
   "outputs": [
    {
     "data": {
      "text/plain": [
       "(352824, 300)"
      ]
     },
     "execution_count": 27,
     "metadata": {},
     "output_type": "execute_result"
    }
   ],
   "source": [
    "glove_matrix.shape"
   ]
  },
  {
   "cell_type": "code",
   "execution_count": 28,
   "metadata": {},
   "outputs": [],
   "source": [
    "\n",
    "\n",
    "import pickle\n",
    "\n",
    "# saving\n",
    "with open('tokenizer_2_layer_lstm.pickle', 'wb') as handle:\n",
    "    pickle.dump(tokenizer, handle)\n",
    "\n",
    "# loading\n",
    "#with open('tokenizer.pickle', 'rb') as handle:\n",
    "#    tokenizer = pickle.load(handle)\n",
    "\n"
   ]
  },
  {
   "cell_type": "markdown",
   "metadata": {},
   "source": [
    "## Using Dual Bidirectional LSTM"
   ]
  },
  {
   "cell_type": "code",
   "execution_count": 29,
   "metadata": {},
   "outputs": [],
   "source": [
    "\n",
    "def Dual_Bidirectional_LSTM():\n",
    "    input = Input(shape=(MAX_SEQUENCE_LENGTH,), dtype='int32',name='inputs')\n",
    "    #inputs = Input(name='inputs',shape=[MAX_SEQUENCE_LENGTH])\n",
    "    embedding_layer = Embedding(len(tokenizer.word_index) + 1,\n",
    "                                        EMBEDDINGS_DIMENSION,\n",
    "                                        #weights=[embedding_matrix],\n",
    "                                        weights=[glove_matrix],  \n",
    "                                        input_length=MAX_SEQUENCE_LENGTH,\n",
    "                                        trainable=False)\n",
    "    layer1 = embedding_layer(input)\n",
    "    layer1 = Bidirectional(LSTM(128,return_sequences=True))(layer1)\n",
    "    layer1 = Dropout(0.3)(layer1)\n",
    "    layer1 = GlobalMaxPool1D()(layer1)\n",
    "     \n",
    "    layer2 = embedding_layer(input)\n",
    "    layer2 = Bidirectional(LSTM(128,return_sequences=True))(layer2)\n",
    "    layer2 = Dropout(0.3)(layer2)\n",
    "    layer2 = GlobalMaxPool1D()(layer2)\n",
    " \n",
    "\n",
    "    layer = concatenate([layer1, layer2])\n",
    "    layer = Dense(256,activation='relu',name='FC1')(layer) \n",
    "    layer = BatchNormalization()(layer)\n",
    "    layer = Dense(2,name='out_layer')(layer)\n",
    "    layer = Activation('sigmoid')(layer)\n",
    "\n",
    "    model = Model(inputs=input,outputs=layer)\n",
    "    return model"
   ]
  },
  {
   "cell_type": "code",
   "execution_count": 30,
   "metadata": {},
   "outputs": [
    {
     "name": "stdout",
     "output_type": "stream",
     "text": [
      "Model: \"model\"\n",
      "__________________________________________________________________________________________________\n",
      "Layer (type)                    Output Shape         Param #     Connected to                     \n",
      "==================================================================================================\n",
      "inputs (InputLayer)             [(None, 250)]        0                                            \n",
      "__________________________________________________________________________________________________\n",
      "embedding (Embedding)           (None, 250, 300)     105847200   inputs[0][0]                     \n",
      "                                                                 inputs[0][0]                     \n",
      "__________________________________________________________________________________________________\n",
      "bidirectional (Bidirectional)   (None, 250, 256)     439296      embedding[0][0]                  \n",
      "__________________________________________________________________________________________________\n",
      "bidirectional_1 (Bidirectional) (None, 250, 256)     439296      embedding[1][0]                  \n",
      "__________________________________________________________________________________________________\n",
      "dropout (Dropout)               (None, 250, 256)     0           bidirectional[0][0]              \n",
      "__________________________________________________________________________________________________\n",
      "dropout_1 (Dropout)             (None, 250, 256)     0           bidirectional_1[0][0]            \n",
      "__________________________________________________________________________________________________\n",
      "global_max_pooling1d (GlobalMax (None, 256)          0           dropout[0][0]                    \n",
      "__________________________________________________________________________________________________\n",
      "global_max_pooling1d_1 (GlobalM (None, 256)          0           dropout_1[0][0]                  \n",
      "__________________________________________________________________________________________________\n",
      "concatenate (Concatenate)       (None, 512)          0           global_max_pooling1d[0][0]       \n",
      "                                                                 global_max_pooling1d_1[0][0]     \n",
      "__________________________________________________________________________________________________\n",
      "FC1 (Dense)                     (None, 256)          131328      concatenate[0][0]                \n",
      "__________________________________________________________________________________________________\n",
      "batch_normalization (BatchNorma (None, 256)          1024        FC1[0][0]                        \n",
      "__________________________________________________________________________________________________\n",
      "out_layer (Dense)               (None, 2)            514         batch_normalization[0][0]        \n",
      "__________________________________________________________________________________________________\n",
      "activation (Activation)         (None, 2)            0           out_layer[0][0]                  \n",
      "==================================================================================================\n",
      "Total params: 106,858,658\n",
      "Trainable params: 1,010,946\n",
      "Non-trainable params: 105,847,712\n",
      "__________________________________________________________________________________________________\n"
     ]
    }
   ],
   "source": [
    "np.random.seed(7)\n",
    "Dual_Bidirectional_LSTM_Model = Dual_Bidirectional_LSTM()\n",
    "Dual_Bidirectional_LSTM_Model.summary()\n",
    "Dual_Bidirectional_LSTM_Model.compile(loss='categorical_crossentropy',optimizer=Adam(),metrics=['accuracy'])"
   ]
  },
  {
   "cell_type": "code",
   "execution_count": 31,
   "metadata": {},
   "outputs": [
    {
     "data": {
      "image/png": "[encoded data removed]",
      "text/plain": [
       "<IPython.core.display.Image object>"
      ]
     },
     "execution_count": 31,
     "metadata": {},
     "output_type": "execute_result"
    }
   ],
   "source": [
    "from tensorflow.keras.utils import plot_model\n",
    "\n",
    "plot_model(Dual_Bidirectional_LSTM_Model, 'Dual_Bidirectional_LSTM_Model.png', show_shapes=True)"
   ]
  },
  {
   "cell_type": "code",
   "execution_count": 32,
   "metadata": {},
   "outputs": [
    {
     "name": "stdout",
     "output_type": "stream",
     "text": [
      "Epoch 1/30\n",
      "3173/3173 [==============================] - ETA: 0s - loss: 0.1519 - accuracy: 0.9400\n",
      "Epoch 00001: val_loss improved from inf to 0.18415, saving model to weights_biDirectional_lstm.best.hdf5\n",
      "3173/3173 [==============================] - 861s 271ms/step - loss: 0.1519 - accuracy: 0.9400 - val_loss: 0.1842 - val_accuracy: 0.9485\n",
      "Epoch 2/30\n",
      "3173/3173 [==============================] - ETA: 0s - loss: 0.1367 - accuracy: 0.9492\n",
      "Epoch 00002: val_loss improved from 0.18415 to 0.15976, saving model to weights_biDirectional_lstm.best.hdf5\n",
      "3173/3173 [==============================] - 862s 272ms/step - loss: 0.1367 - accuracy: 0.9492 - val_loss: 0.1598 - val_accuracy: 0.9498\n",
      "Epoch 3/30\n",
      "3173/3173 [==============================] - ETA: 0s - loss: 0.1325 - accuracy: 0.9503\n",
      "Epoch 00003: val_loss improved from 0.15976 to 0.15825, saving model to weights_biDirectional_lstm.best.hdf5\n",
      "3173/3173 [==============================] - 867s 273ms/step - loss: 0.1325 - accuracy: 0.9503 - val_loss: 0.1583 - val_accuracy: 0.9509\n",
      "Epoch 4/30\n",
      "3173/3173 [==============================] - ETA: 0s - loss: 0.1289 - accuracy: 0.9514\n",
      "Epoch 00004: val_loss improved from 0.15825 to 0.15097, saving model to weights_biDirectional_lstm.best.hdf5\n",
      "3173/3173 [==============================] - 867s 273ms/step - loss: 0.1289 - accuracy: 0.9514 - val_loss: 0.1510 - val_accuracy: 0.9511\n",
      "Epoch 5/30\n",
      "3173/3173 [==============================] - ETA: 0s - loss: 0.1168 - accuracy: 0.9548\n",
      "Epoch 00007: val_loss improved from 0.13595 to 0.13552, saving model to weights_biDirectional_lstm.best.hdf5\n",
      "3173/3173 [==============================] - 866s 273ms/step - loss: 0.1168 - accuracy: 0.9548 - val_loss: 0.1355 - val_accuracy: 0.9485\n",
      "Epoch 8/30\n",
      "3173/3173 [==============================] - ETA: 0s - loss: 0.0857 - accuracy: 0.9650\n",
      "Epoch 00014: val_loss did not improve from 0.13552\n",
      "3173/3173 [==============================] - 864s 272ms/step - loss: 0.0857 - accuracy: 0.9650 - val_loss: 0.1605 - val_accuracy: 0.9466\n",
      "Epoch 15/30\n",
      "1782/3173 [===============>..............] - ETA: 6:00 - loss: 0.0749 - accuracy: 0.9692\n",
      "Epoch 00015: val_loss did not improve from 0.13552\n",
      "3173/3173 [==============================] - 863s 272ms/step - loss: 0.0762 - accuracy: 0.9685 - val_loss: 0.1712 - val_accuracy: 0.9465\n",
      "Epoch 16/30\n",
      "3173/3173 [==============================] - ETA: 0s - loss: 0.0832 - accuracy: 0.9667\n",
      "Epoch 00018: val_loss did not improve from 0.13552\n",
      "3173/3173 [==============================] - 862s 272ms/step - loss: 0.0832 - accuracy: 0.9667 - val_loss: 0.1556 - val_accuracy: 0.9464\n",
      "Epoch 19/30\n",
      "3173/3173 [==============================] - ETA: 0s - loss: 0.0592 - accuracy: 0.9758\n",
      "Epoch 00022: val_loss did not improve from 0.13552\n",
      "3173/3173 [==============================] - 863s 272ms/step - loss: 0.0592 - accuracy: 0.9758 - val_loss: 0.1629 - val_accuracy: 0.9459\n",
      "Epoch 23/30\n",
      "3173/3173 [==============================] - ETA: 0s - loss: 0.0462 - accuracy: 0.9814\n",
      "Epoch 00029: val_loss did not improve from 0.13552\n",
      "3173/3173 [==============================] - 861s 271ms/step - loss: 0.0462 - accuracy: 0.9814 - val_loss: 0.2134 - val_accuracy: 0.9437\n",
      "Epoch 30/30\n",
      "2178/3173 [===================>..........] - ETA: 4:16 - loss: 0.0408 - accuracy: 0.9836"
     ]
    }
   ],
   "source": [
    "#https://www.kaggle.com/yuliagm/how-to-work-with-big-datasets-on-16g-ram-dask\n",
    "# checkpoint\n",
    "# Configure the TensorBoard callback and fit your model\n",
    "\n",
    "#tensorboard_callback = tf.keras.callbacks.TensorBoard(\"logs\")\n",
    "\n",
    "filepath=\"weights_biDirectional_lstm.best.hdf5\"\n",
    "checkpoint = ModelCheckpoint(filepath, monitor='val_loss', verbose=1, save_best_only=True, mode='min')\n",
    "\n",
    "callbacks_list = [checkpoint]    \n",
    "\n",
    "history=Dual_Bidirectional_LSTM_Model.fit(X_train, y_train, verbose=1,epochs=30,validation_data=(X_validate, y_validate) ,batch_size=512,callbacks=callbacks_list)"
   ]
  },
  {
   "cell_type": "code",
   "execution_count": 33,
   "metadata": {},
   "outputs": [
    {
     "data": {
      "text/plain": [
       "{'loss': [0.15194182097911835,\n",
       "  0.13668085634708405,\n",
       "  0.13248835504055023,\n",
       "  0.12887689471244812,\n",
       "  0.12519295513629913,\n",
       "  0.1213463619351387,\n",
       "  0.11677727103233337,\n",
       "  0.11174192279577255,\n",
       "  0.10608656704425812,\n",
       "  0.10059110075235367,\n",
       "  0.09474398195743561,\n",
       "  0.09130845218896866,\n",
       "  0.08420852571725845,\n",
       "  0.08568383753299713,\n",
       "  0.07624048739671707,\n",
       "  0.07124316692352295,\n",
       "  0.06738272309303284,\n",
       "  0.08317699283361435,\n",
       "  0.06786367297172546,\n",
       "  0.06000246852636337,\n",
       "  0.07062729448080063,\n",
       "  0.05920154228806496,\n",
       "  0.061898112297058105,\n",
       "  0.05946715176105499,\n",
       "  0.05329855531454086,\n",
       "  0.049618497490882874,\n",
       "  0.05522565171122551,\n",
       "  0.05079564079642296,\n",
       "  0.0461854450404644,\n",
       "  0.04232742637395859],\n",
       " 'accuracy': [0.9399939179420471,\n",
       "  0.9491881728172302,\n",
       "  0.9503301382064819,\n",
       "  0.9514376521110535,\n",
       "  0.9523857235908508,\n",
       "  0.953436553478241,\n",
       "  0.9547982811927795,\n",
       "  0.9561508297920227,\n",
       "  0.9577828049659729,\n",
       "  0.959585964679718,\n",
       "  0.961395263671875,\n",
       "  0.9627428650856018,\n",
       "  0.9653708934783936,\n",
       "  0.965040922164917,\n",
       "  0.9684896469116211,\n",
       "  0.9704639315605164,\n",
       "  0.9718976616859436,\n",
       "  0.9667012691497803,\n",
       "  0.9721149802207947,\n",
       "  0.9752983450889587,\n",
       "  0.9714427590370178,\n",
       "  0.9757958054542542,\n",
       "  0.9748366475105286,\n",
       "  0.975886881351471,\n",
       "  0.9784620404243469,\n",
       "  0.9798440933227539,\n",
       "  0.9777836203575134,\n",
       "  0.9795381426811218,\n",
       "  0.9814422130584717,\n",
       "  0.9829972386360168],\n",
       " 'val_loss': [0.18415310978889465,\n",
       "  0.15975706279277802,\n",
       "  0.15825219452381134,\n",
       "  0.1509721875190735,\n",
       "  0.1359538733959198,\n",
       "  0.14403414726257324,\n",
       "  0.1355217844247818,\n",
       "  0.14488503336906433,\n",
       "  0.1447279155254364,\n",
       "  0.15321025252342224,\n",
       "  0.14260388910770416,\n",
       "  0.14480623602867126,\n",
       "  0.14893101155757904,\n",
       "  0.16046565771102905,\n",
       "  0.1711822897195816,\n",
       "  0.15734152495861053,\n",
       "  0.1845627874135971,\n",
       "  0.15555404126644135,\n",
       "  0.15930478274822235,\n",
       "  0.17563408613204956,\n",
       "  0.1618494987487793,\n",
       "  0.1628851294517517,\n",
       "  0.1728508323431015,\n",
       "  0.16226671636104584,\n",
       "  0.18626189231872559,\n",
       "  0.1941862553358078,\n",
       "  0.16801032423973083,\n",
       "  0.17827051877975464,\n",
       "  0.2133842557668686,\n",
       "  0.21592748165130615],\n",
       " 'val_accuracy': [0.9485228657722473,\n",
       "  0.9497972130775452,\n",
       "  0.9508776068687439,\n",
       "  0.9510881900787354,\n",
       "  0.9511324763298035,\n",
       "  0.9436140060424805,\n",
       "  0.9484508633613586,\n",
       "  0.9446278810501099,\n",
       "  0.9465449452400208,\n",
       "  0.945780336856842,\n",
       "  0.9482735991477966,\n",
       "  0.9474757313728333,\n",
       "  0.9485782980918884,\n",
       "  0.9465504884719849,\n",
       "  0.9464728832244873,\n",
       "  0.9471599459648132,\n",
       "  0.9457692503929138,\n",
       "  0.9464285969734192,\n",
       "  0.9453204870223999,\n",
       "  0.9432815313339233,\n",
       "  0.9463842511177063,\n",
       "  0.9458745121955872,\n",
       "  0.9451764225959778,\n",
       "  0.9454589486122131,\n",
       "  0.9457747936248779,\n",
       "  0.9451099038124084,\n",
       "  0.9439353346824646,\n",
       "  0.9446112513542175,\n",
       "  0.9437358975410461,\n",
       "  0.9449270963668823]}"
      ]
     },
     "execution_count": 33,
     "metadata": {},
     "output_type": "execute_result"
    }
   ],
   "source": [
    "history.history"
   ]
  },
  {
   "cell_type": "code",
   "execution_count": 34,
   "metadata": {},
   "outputs": [
    {
     "data": {
      "image/png": "[encoded data removed]",
      "text/plain": [
       "<Figure size 432x288 with 1 Axes>"
      ]
     },
     "metadata": {
      "needs_background": "light"
     },
     "output_type": "display_data"
    }
   ],
   "source": [
    "loss_train = history.history['loss']\n",
    "loss_val = history.history['val_loss']\n",
    "#epochs = np.range(1,1)\n",
    "plt.plot(loss_train, 'g', label='Training loss')\n",
    "plt.plot(loss_val, 'b', label='validation loss')\n",
    "plt.title('Training and Validation loss')\n",
    "plt.xlabel('Epochs')\n",
    "plt.ylabel('Loss')\n",
    "plt.legend()\n",
    "plt.show()"
   ]
  },
  {
   "cell_type": "code",
   "execution_count": 35,
   "metadata": {},
   "outputs": [
    {
     "data": {
      "image/png": "[encoded data removed]",
      "text/plain": [
       "<Figure size 432x288 with 1 Axes>"
      ]
     },
     "metadata": {
      "needs_background": "light"
     },
     "output_type": "display_data"
    }
   ],
   "source": [
    "loss_train = history.history['accuracy']\n",
    "loss_val = history.history['val_accuracy']\n",
    "epochs = range(1,41)\n",
    "plt.plot(loss_train, 'g', label='Training accuracy')\n",
    "plt.plot(loss_val, 'b', label='validation accuracy')\n",
    "plt.title('Training and Validation accuracy')\n",
    "plt.xlabel('Epochs')\n",
    "plt.ylabel('Accuracy')\n",
    "plt.legend()\n",
    "plt.show()"
   ]
  },
  {
   "cell_type": "code",
   "execution_count": 36,
   "metadata": {},
   "outputs": [
    {
     "name": "stdout",
     "output_type": "stream",
     "text": [
      "0.9870505557230174\n"
     ]
    }
   ],
   "source": [
    "#new_model2 = tf.keras.models.load_model('/content/gdrive/My Drive/Checkpoints/Self Case Study 1/CNN LSTM Model 1/saved_model2')\n",
    "from sklearn.metrics import roc_auc_score\n",
    "predict_y = Dual_Bidirectional_LSTM_Model.predict(X_test)\n",
    "print(roc_auc_score(test_df['target'].values, predict_y[:,1]))"
   ]
  },
  {
   "cell_type": "code",
   "execution_count": 37,
   "metadata": {},
   "outputs": [
    {
     "data": {
      "text/html": [
       "<div>\n",
       "<style scoped>\n",
       "    .dataframe tbody tr th:only-of-type {\n",
       "        vertical-align: middle;\n",
       "    }\n",
       "\n",
       "    .dataframe tbody tr th {\n",
       "        vertical-align: top;\n",
       "    }\n",
       "\n",
       "    .dataframe thead th {\n",
       "        text-align: right;\n",
       "    }\n",
       "</style>\n",
       "<table border=\"1\" class=\"dataframe\">\n",
       "  <thead>\n",
       "    <tr style=\"text-align: right;\">\n",
       "      <th></th>\n",
       "      <th>subgroup</th>\n",
       "      <th>subgroup_size</th>\n",
       "      <th>subgroup_auc</th>\n",
       "      <th>bpsn_auc</th>\n",
       "      <th>bnsp_auc</th>\n",
       "    </tr>\n",
       "  </thead>\n",
       "  <tbody>\n",
       "    <tr>\n",
       "      <th>7</th>\n",
       "      <td>white</td>\n",
       "      <td>5022</td>\n",
       "      <td>0.963303</td>\n",
       "      <td>0.946828</td>\n",
       "      <td>0.992368</td>\n",
       "    </tr>\n",
       "    <tr>\n",
       "      <th>6</th>\n",
       "      <td>black</td>\n",
       "      <td>3012</td>\n",
       "      <td>0.965664</td>\n",
       "      <td>0.953495</td>\n",
       "      <td>0.992001</td>\n",
       "    </tr>\n",
       "    <tr>\n",
       "      <th>2</th>\n",
       "      <td>homosexual_gay_or_lesbian</td>\n",
       "      <td>2226</td>\n",
       "      <td>0.966835</td>\n",
       "      <td>0.959783</td>\n",
       "      <td>0.989967</td>\n",
       "    </tr>\n",
       "    <tr>\n",
       "      <th>5</th>\n",
       "      <td>muslim</td>\n",
       "      <td>4247</td>\n",
       "      <td>0.972816</td>\n",
       "      <td>0.968264</td>\n",
       "      <td>0.990289</td>\n",
       "    </tr>\n",
       "    <tr>\n",
       "      <th>0</th>\n",
       "      <td>male</td>\n",
       "      <td>8761</td>\n",
       "      <td>0.977338</td>\n",
       "      <td>0.974064</td>\n",
       "      <td>0.988912</td>\n",
       "    </tr>\n",
       "    <tr>\n",
       "      <th>1</th>\n",
       "      <td>female</td>\n",
       "      <td>10720</td>\n",
       "      <td>0.981189</td>\n",
       "      <td>0.978386</td>\n",
       "      <td>0.989320</td>\n",
       "    </tr>\n",
       "    <tr>\n",
       "      <th>4</th>\n",
       "      <td>jewish</td>\n",
       "      <td>1532</td>\n",
       "      <td>0.982937</td>\n",
       "      <td>0.975212</td>\n",
       "      <td>0.992962</td>\n",
       "    </tr>\n",
       "    <tr>\n",
       "      <th>8</th>\n",
       "      <td>psychiatric_or_mental_illness</td>\n",
       "      <td>1001</td>\n",
       "      <td>0.982970</td>\n",
       "      <td>0.979634</td>\n",
       "      <td>0.989846</td>\n",
       "    </tr>\n",
       "    <tr>\n",
       "      <th>3</th>\n",
       "      <td>christian</td>\n",
       "      <td>8124</td>\n",
       "      <td>0.986208</td>\n",
       "      <td>0.985671</td>\n",
       "      <td>0.987627</td>\n",
       "    </tr>\n",
       "  </tbody>\n",
       "</table>\n",
       "</div>"
      ],
      "text/plain": [
       "                        subgroup  subgroup_size  subgroup_auc  bpsn_auc  \\\n",
       "7                          white           5022      0.963303  0.946828   \n",
       "6                          black           3012      0.965664  0.953495   \n",
       "2      homosexual_gay_or_lesbian           2226      0.966835  0.959783   \n",
       "5                         muslim           4247      0.972816  0.968264   \n",
       "0                           male           8761      0.977338  0.974064   \n",
       "1                         female          10720      0.981189  0.978386   \n",
       "4                         jewish           1532      0.982937  0.975212   \n",
       "8  psychiatric_or_mental_illness           1001      0.982970  0.979634   \n",
       "3                      christian           8124      0.986208  0.985671   \n",
       "\n",
       "   bnsp_auc  \n",
       "7  0.992368  \n",
       "6  0.992001  \n",
       "2  0.989967  \n",
       "5  0.990289  \n",
       "0  0.988912  \n",
       "1  0.989320  \n",
       "4  0.992962  \n",
       "8  0.989846  \n",
       "3  0.987627  "
      ]
     },
     "execution_count": 37,
     "metadata": {},
     "output_type": "execute_result"
    }
   ],
   "source": [
    "predict_y = Dual_Bidirectional_LSTM_Model.predict(X_test)\n",
    "MODEL_NAME = 'LSTM_Model'\n",
    "test_df[MODEL_NAME] = list(predict_y[:,1])\n",
    "bias_metrics_df = compute_bias_metrics_for_model(test_df, identity_columns, MODEL_NAME, TOXICITY_COLUMN)\n",
    "bias_metrics_df"
   ]
  },
  {
   "cell_type": "code",
   "execution_count": 38,
   "metadata": {},
   "outputs": [
    {
     "data": {
      "text/plain": [
       "0.9803103387201821"
      ]
     },
     "execution_count": 38,
     "metadata": {},
     "output_type": "execute_result"
    }
   ],
   "source": [
    "Dual_Bidirectional_LSTM_Model_1=get_final_metric(bias_metrics_df, calculate_overall_auc(test_df, MODEL_NAME))\n",
    "Dual_Bidirectional_LSTM_Model_1"
   ]
  },
  {
   "cell_type": "markdown",
   "metadata": {},
   "source": [
    "# Submit"
   ]
  },
  {
   "cell_type": "code",
   "execution_count": 39,
   "metadata": {},
   "outputs": [],
   "source": [
    "test_embd = pd.read_csv('../input/jigshwpreprocesseddata/test_sub.csv', sep=',', quotechar='\"')\n",
    "test_embd['comment_text'] = test_embd['comment_text'].astype(str)\n",
    "X_test_sub = pad_text(test_embd['comment_text'], tokenizer)\n",
    "predict_y = Dual_Bidirectional_LSTM_Model.predict(X_test_sub)\n",
    "test_embd['prediction'] = list(predict_y[:,1])"
   ]
  },
  {
   "cell_type": "code",
   "execution_count": 40,
   "metadata": {},
   "outputs": [],
   "source": [
    "submission = pd.DataFrame.from_dict({\n",
    "    'id': test_embd['id'],\n",
    "    'prediction': list(predict_y[:,1])\n",
    "})"
   ]
  },
  {
   "cell_type": "code",
   "execution_count": 41,
   "metadata": {},
   "outputs": [
    {
     "data": {
      "text/html": [
       "<div>\n",
       "<style scoped>\n",
       "    .dataframe tbody tr th:only-of-type {\n",
       "        vertical-align: middle;\n",
       "    }\n",
       "\n",
       "    .dataframe tbody tr th {\n",
       "        vertical-align: top;\n",
       "    }\n",
       "\n",
       "    .dataframe thead th {\n",
       "        text-align: right;\n",
       "    }\n",
       "</style>\n",
       "<table border=\"1\" class=\"dataframe\">\n",
       "  <thead>\n",
       "    <tr style=\"text-align: right;\">\n",
       "      <th></th>\n",
       "      <th>id</th>\n",
       "      <th>prediction</th>\n",
       "    </tr>\n",
       "  </thead>\n",
       "  <tbody>\n",
       "    <tr>\n",
       "      <th>0</th>\n",
       "      <td>7097320</td>\n",
       "      <td>8.545551e-03</td>\n",
       "    </tr>\n",
       "    <tr>\n",
       "      <th>1</th>\n",
       "      <td>7097321</td>\n",
       "      <td>2.481866e-04</td>\n",
       "    </tr>\n",
       "    <tr>\n",
       "      <th>2</th>\n",
       "      <td>7097322</td>\n",
       "      <td>2.326289e-03</td>\n",
       "    </tr>\n",
       "    <tr>\n",
       "      <th>3</th>\n",
       "      <td>7097323</td>\n",
       "      <td>4.997148e-07</td>\n",
       "    </tr>\n",
       "    <tr>\n",
       "      <th>4</th>\n",
       "      <td>7097324</td>\n",
       "      <td>1.068045e-04</td>\n",
       "    </tr>\n",
       "  </tbody>\n",
       "</table>\n",
       "</div>"
      ],
      "text/plain": [
       "        id    prediction\n",
       "0  7097320  8.545551e-03\n",
       "1  7097321  2.481866e-04\n",
       "2  7097322  2.326289e-03\n",
       "3  7097323  4.997148e-07\n",
       "4  7097324  1.068045e-04"
      ]
     },
     "execution_count": 41,
     "metadata": {},
     "output_type": "execute_result"
    }
   ],
   "source": [
    "submission.head()"
   ]
  },
  {
   "cell_type": "code",
   "execution_count": 42,
   "metadata": {},
   "outputs": [],
   "source": [
    "submission.to_csv('submission.csv', index=False)"
   ]
  },
  {
   "cell_type": "markdown",
   "metadata": {},
   "source": [
    "## **AUC Score on Test Data is 0.9876**\n",
    "## **Evaluation Metric Score on Test Data is0.98012**\n",
    "## **Kaggle Score for submission test file on Private leaderboard: 0.85731**\n",
    "<img src=\"https://i.ibb.co/Z8pm2J9/dual-bidirectional-lstm.png\" alt=\"dual-bidirectional-lstm\" border=\"0\">"
   ]
  }
 ],
 "metadata": {
  "kernelspec": {
   "display_name": "Python 3",
   "language": "python",
   "name": "python3"
  },
  "language_info": {
   "codemirror_mode": {
    "name": "ipython",
    "version": 3
   },
   "file_extension": ".py",
   "mimetype": "text/x-python",
   "name": "python",
   "nbconvert_exporter": "python",
   "pygments_lexer": "ipython3",
   "version": "3.6.9"
  }
 },
 "nbformat": 4,
 "nbformat_minor": 4
}

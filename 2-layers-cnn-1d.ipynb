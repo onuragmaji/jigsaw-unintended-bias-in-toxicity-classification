{
 "cells": [
  {
   "cell_type": "code",
   "execution_count": 1,
   "metadata": {
    "_cell_guid": "b1076dfc-b9ad-4769-8c92-a6c4dae69d19",
    "_uuid": "8f2839f25d086af736a60e9eeb907d3b93b6e0e5"
   },
   "outputs": [],
   "source": [
    "import os\n",
    "import csv\n",
    "import pandas as pd\n",
    "import numpy as np\n",
    "import matplotlib.pyplot as plt\n",
    "import seaborn as sns\n",
    "import re\n",
    "\n",
    "import statsmodels.api as sm\n",
    "\n",
    "from sklearn.model_selection import train_test_split\n",
    "from sklearn.linear_model import LinearRegression\n",
    "from sklearn.feature_selection import RFE\n",
    "\n",
    "from sklearn.linear_model import RidgeCV, LassoCV, Ridge, Lasso\n",
    "\n",
    "from sklearn import metrics\n",
    "\n",
    "import time\n",
    "import pickle \n",
    "\n",
    "import pandas as pd"
   ]
  },
  {
   "cell_type": "markdown",
   "metadata": {},
   "source": [
    "## Calculate the final score"
   ]
  },
  {
   "cell_type": "markdown",
   "metadata": {},
   "source": [
    "## Evaluation Metric:\n",
    "\n",
    "Our goal to to reduce unintented bias as much as possible so we will use a special matric. \n",
    "\n",
    "we are refering the following information from <a href=\"https://www.kaggle.com/c/jigsaw-unintended-bias-in-toxicity-classification/overview/evaluation\" target=\"_blank\"><b>here</b></a>.\n",
    "\n",
    "We will use metric that combines several submetrics to balance overall performance with various aspects of unintended bias.\n",
    "\n",
    "\n",
    "<ol>\n",
    "<li><b>Overall AUC</b><br>\n",
    "   This is the ROC-AUC for the full evaluation set.</li><br><br>\n",
    "\n",
    "<li><b>Bias AUCs</b><br>\n",
    "   Here we calculate the ROC-AUC on three specific subsets of the test set for each identity, each capturing a different      aspect of unintended bias.<br><br>\n",
    "\n",
    "<ol type=\"a\"><li><b>Subgroup AUC:</b><br> \n",
    "       Here, we restrict the data set to only the examples that mention the specific identity subgroup. A low value in this metric means the model does a poor job of distinguishing between toxic and non-toxic comments that mention the identity.</li><br>\n",
    "<li><b>BPSN (Background Positive, Subgroup Negative) AUC:</b><br> \n",
    "       Here, we restrict the test set to the non-toxic examples that mention the identity and the toxic examples that do not. A low value in this metric means that the model confuses non-toxic examples that mention the identity with toxic examples that do not, likely meaning that the model predicts higher toxicity scores than it should for non-toxic examples mentioning the identity.</li><br>\n",
    "\n",
    "<li><b>BNSP (Background Negative, Subgroup Positive) AUC:</b><br>\n",
    "       Here, we restrict the test set to the toxic examples that mention the identity and the non-toxic examples that do not. A low value here means that the model confuses toxic examples that mention the identity with non-toxic examples that do not, likely meaning that the model predicts lower toxicity scores than it should for toxic examples mentioning the identity.</li>\n",
    "</li><br><br>"
   ]
  },
  {
   "cell_type": "code",
   "execution_count": 2,
   "metadata": {
    "_cell_guid": "79c7e3d0-c299-4dcb-8224-4455121ee9b0",
    "_uuid": "d629ff2d2480ee46fbb7e2d37f6b5fab8052498a"
   },
   "outputs": [],
   "source": [
    "SUBGROUP_AUC = 'subgroup_auc'\n",
    "BPSN_AUC = 'bpsn_auc'  # stands for background positive, subgroup negative\n",
    "BNSP_AUC = 'bnsp_auc'  # stands for background negative, subgroup positive\n",
    "\n",
    "def compute_auc(y_true, y_pred):\n",
    "    try:\n",
    "        return metrics.roc_auc_score(y_true, y_pred)\n",
    "    except ValueError:\n",
    "        return np.nan\n",
    "\n",
    "def compute_subgroup_auc(df, subgroup, label, model_name):\n",
    "    subgroup_examples = df[df[subgroup]]\n",
    "    return compute_auc(subgroup_examples[label], subgroup_examples[model_name])\n",
    "\n",
    "def compute_bpsn_auc(df, subgroup, label, model_name):\n",
    "    \"\"\"Computes the AUC of the within-subgroup negative examples and the background positive examples.\"\"\"\n",
    "    subgroup_negative_examples = df[df[subgroup] & ~df[label]]\n",
    "    non_subgroup_positive_examples = df[~df[subgroup] & df[label]]\n",
    "    examples = subgroup_negative_examples.append(non_subgroup_positive_examples)\n",
    "    return compute_auc(examples[label], examples[model_name])\n",
    "\n",
    "def compute_bnsp_auc(df, subgroup, label, model_name):\n",
    "    \"\"\"Computes the AUC of the within-subgroup positive examples and the background negative examples.\"\"\"\n",
    "    subgroup_positive_examples = df[df[subgroup] & df[label]]\n",
    "    non_subgroup_negative_examples = df[~df[subgroup] & ~df[label]]\n",
    "    examples = subgroup_positive_examples.append(non_subgroup_negative_examples)\n",
    "    return compute_auc(examples[label], examples[model_name])\n",
    "\n",
    "def compute_bias_metrics_for_model(dataset,\n",
    "                                   subgroups,\n",
    "                                   model,\n",
    "                                   label_col,\n",
    "                                   include_asegs=False):\n",
    "    \"\"\"Computes per-subgroup metrics for all subgroups and one model.\"\"\"\n",
    "    records = []\n",
    "    for subgroup in subgroups:\n",
    "        record = {\n",
    "            'subgroup': subgroup,\n",
    "            'subgroup_size': len(dataset[dataset[subgroup]])\n",
    "        }\n",
    "        record[SUBGROUP_AUC] = compute_subgroup_auc(dataset, subgroup, label_col, model)\n",
    "        record[BPSN_AUC] = compute_bpsn_auc(dataset, subgroup, label_col, model)\n",
    "        record[BNSP_AUC] = compute_bnsp_auc(dataset, subgroup, label_col, model)\n",
    "        records.append(record)\n",
    "    return pd.DataFrame(records).sort_values('subgroup_auc', ascending=True)\n"
   ]
  },
  {
   "cell_type": "markdown",
   "metadata": {},
   "source": [
    "## Generalized Mean of Bias AUCs\n",
    "\n",
    "To combine the per-identity Bias AUCs into one overall measure, we calculate their generalized mean as defined below:\n",
    "\n",
    "$$M_p(m_s) = \\left(\\frac{1}{N} \\sum_{s=1}^{N} m_s^p\\right)^\\frac{1}{p}$$\n",
    "\n",
    "\n",
    "where: \n",
    "\n",
    "$$  M_p = the \\ pth\\ power\\ mean\\ function$$\n",
    "$$m_s = the\\ bias\\ metric\\ m \\ calulated \\ for \\ subgroup$$\n",
    "$$N = number \\ of \\ identity \\ subgroups$$\n",
    "\n",
    "## Final Metric\n",
    "\n",
    "$$score = w_0 AUC_{overall} + \\sum_{a=1}^{A} w_a M_p(m_{s,a})$$\n",
    "\n",
    "where:\n",
    "\n",
    "$$A = number \\ of \\ submetrics \\ (3)$$\n",
    "\n",
    "$$m_{s,a} = bias \\ metric \\ for \\ identity \\ subgroup \\ s \\ using \\ submetric \\ a$$\n",
    "\n",
    "$$w_a = a \\ weighting \\ for \\ the \\ relative \\ importance \\ of \\ each \\ submetric; \\ all \\ four \\ w \\ values \\ set \\ to \\ 0.25$$"
   ]
  },
  {
   "cell_type": "code",
   "execution_count": 3,
   "metadata": {},
   "outputs": [],
   "source": [
    "def calculate_overall_auc(df, model_name):\n",
    "    true_labels = df[TOXICITY_COLUMN]\n",
    "    predicted_labels = df[model_name]\n",
    "    return metrics.roc_auc_score(true_labels, predicted_labels)\n",
    "\n",
    "def power_mean(series, p):\n",
    "    total = sum(np.power(series, p))\n",
    "    return np.power(total / len(series), 1 / p)\n",
    "\n",
    "def get_final_metric(bias_df, overall_auc, POWER=-5, OVERALL_MODEL_WEIGHT=0.25):\n",
    "    bias_score = np.average([\n",
    "        power_mean(bias_df[SUBGROUP_AUC], POWER),\n",
    "        power_mean(bias_df[BPSN_AUC], POWER),\n",
    "        power_mean(bias_df[BNSP_AUC], POWER)\n",
    "    ])\n",
    "    return (OVERALL_MODEL_WEIGHT * overall_auc) + ((1 - OVERALL_MODEL_WEIGHT) * bias_score)\n",
    "    \n",
    "#get_final_metric(bias_metrics_df, calculate_overall_auc(X_test_TFIDF, MODEL_NAME))"
   ]
  },
  {
   "cell_type": "markdown",
   "metadata": {},
   "source": [
    "## 2. Data Pre-processing and vectorizing:"
   ]
  },
  {
   "cell_type": "code",
   "execution_count": 4,
   "metadata": {},
   "outputs": [],
   "source": [
    "train_embd = pd.read_csv('../input/jigsaw-unintended-bias-in-toxicity-classification/train.csv', sep=',', quotechar='\"')"
   ]
  },
  {
   "cell_type": "code",
   "execution_count": 5,
   "metadata": {},
   "outputs": [],
   "source": [
    "##REF:https://www.kaggle.com/christofhenkel/how-to-preprocessing-for-glove-part1-eda\n",
    "\n",
    "import operator \n",
    "\n",
    "def check_coverage(vocab,embeddings_index):\n",
    "    a = {}\n",
    "    oov = {}\n",
    "    k = 0\n",
    "    i = 0\n",
    "    for word in tqdm(vocab):\n",
    "        try:\n",
    "            a[word] = embeddings_index[word]\n",
    "            k += vocab[word]\n",
    "        except:\n",
    "\n",
    "            oov[word] = vocab[word]\n",
    "            i += vocab[word]\n",
    "            pass\n",
    "\n",
    "    print('Found embeddings for {:.2%} of vocab'.format(len(a) / len(vocab)))\n",
    "    print('Found embeddings for  {:.2%} of all text'.format(k / (k + i)))\n",
    "    sorted_x = sorted(oov.items(), key=operator.itemgetter(1))[::-1]\n",
    "\n",
    "    return sorted_x\n",
    "\n",
    "def build_vocab(sentences, verbose =  True):\n",
    "    \"\"\"\n",
    "    :param sentences: list of list of words\n",
    "    :return: dictionary of words and their count\n",
    "    \"\"\"\n",
    "    vocab = {}\n",
    "    for sentence in sentences:\n",
    "        for word in sentence:\n",
    "            try:\n",
    "                vocab[word] += 1\n",
    "            except KeyError:\n",
    "                vocab[word] = 1\n",
    "    return vocab"
   ]
  },
  {
   "cell_type": "code",
   "execution_count": 6,
   "metadata": {},
   "outputs": [],
   "source": [
    "def get_coefs(word, *arr):\n",
    "    return word, np.asarray(arr, dtype='float32')\n",
    "\n",
    "def load_embeddings(path):\n",
    "    with open(path,'rb') as f:\n",
    "        emb_arr = pickle.load(f)\n",
    "    return emb_arr\n",
    "\n",
    "def build_matrix(word_index, path):\n",
    "    embedding_index = load_embeddings(path)\n",
    "    embedding_matrix = np.zeros((len(word_index) + 1, 300))\n",
    "    unknown_words = []\n",
    "    \n",
    "    for word, i in word_index.items():\n",
    "        try:\n",
    "            embedding_matrix[i] = embedding_index[word]\n",
    "        except KeyError:\n",
    "            unknown_words.append(word)\n",
    "    return embedding_matrix, unknown_words"
   ]
  },
  {
   "cell_type": "code",
   "execution_count": 7,
   "metadata": {},
   "outputs": [
    {
     "name": "stdout",
     "output_type": "stream",
     "text": [
      "loaded 2196008 word vectors in 10.154787540435791s\n"
     ]
    }
   ],
   "source": [
    "\n",
    "GLOVE_EMBEDDING_PATH=\"../input/pickled-glove840b300d-for-10sec-loading/glove.840B.300d.pkl\"\n",
    "tic = time.time()\n",
    "glove_embeddings = load_embeddings(GLOVE_EMBEDDING_PATH)\n",
    "print(f'loaded {len(glove_embeddings)} word vectors in {time.time()-tic}s')"
   ]
  },
  {
   "cell_type": "code",
   "execution_count": 8,
   "metadata": {},
   "outputs": [
    {
     "data": {
      "text/plain": [
       "20"
      ]
     },
     "execution_count": 8,
     "metadata": {},
     "output_type": "execute_result"
    }
   ],
   "source": [
    "import gc\n",
    "del train_embd\n",
    "del glove_embeddings\n",
    "gc.collect()"
   ]
  },
  {
   "cell_type": "markdown",
   "metadata": {},
   "source": [
    "# Importing the preprocessed data"
   ]
  },
  {
   "cell_type": "code",
   "execution_count": 17,
   "metadata": {},
   "outputs": [],
   "source": [
    "train_embd = pd.read_csv('../input/jigshwpreprocesseddata/train_embd.csv', sep=',', quotechar='\"')"
   ]
  },
  {
   "cell_type": "code",
   "execution_count": 18,
   "metadata": {},
   "outputs": [
    {
     "data": {
      "text/plain": [
       "(1804874, 46)"
      ]
     },
     "execution_count": 18,
     "metadata": {},
     "output_type": "execute_result"
    }
   ],
   "source": [
    "train_embd.shape"
   ]
  },
  {
   "cell_type": "markdown",
   "metadata": {},
   "source": [
    "# Deep Learning Models"
   ]
  },
  {
   "cell_type": "code",
   "execution_count": 19,
   "metadata": {},
   "outputs": [],
   "source": [
    "from sklearn import model_selection\n",
    "from tensorflow.keras.preprocessing.text import Tokenizer\n",
    "from tensorflow.keras.utils import to_categorical\n",
    "from tensorflow.keras.preprocessing.sequence import pad_sequences\n",
    "\n",
    "from tensorflow.keras.optimizers import RMSprop\n",
    "from tensorflow.keras.models import Model\n",
    "from tensorflow.keras.models import load_model\n",
    "\n",
    "import numpy as np\n",
    "from tensorflow.keras.models import Sequential\n",
    "from tensorflow.keras.preprocessing import sequence\n",
    "\n",
    "\n",
    "\n",
    "import tensorflow as tf\n",
    "from tensorflow.keras import models, layers\n",
    "from tensorflow.keras.models import Model\n",
    "from tensorflow.keras.optimizers import Adam\n",
    "from tensorflow.keras.callbacks import ModelCheckpoint \n",
    "from tensorflow.keras.layers import Dense, Flatten, LSTM, Conv1D, MaxPooling1D, Dropout, Activation, Input,\\\n",
    " Embedding,BatchNormalization,Bidirectional,GlobalMaxPool1D,concatenate\n",
    "\n",
    "from tensorflow.keras.models import model_from_json  "
   ]
  },
  {
   "cell_type": "code",
   "execution_count": 20,
   "metadata": {},
   "outputs": [],
   "source": [
    "train_embd['comment_text'] = train_embd['comment_text'].astype(str) \n",
    "\n",
    "# List all identities\n",
    "identity_columns = [\n",
    "    'male', 'female', 'homosexual_gay_or_lesbian', 'christian', 'jewish',\n",
    "    'muslim', 'black', 'white', 'psychiatric_or_mental_illness']\n",
    "\n",
    "TOXICITY_COLUMN = 'target' \n",
    "\n",
    "# Converting taget and identity columns to booleans\n",
    "def convert_to_bool(df, col_name):\n",
    "    df[col_name] = np.where(df[col_name] >= 0.5, True, False)\n",
    "    \n",
    "def convert_dataframe_to_bool(df):\n",
    "    bool_df = df.copy()\n",
    "    for col in ['target'] + identity_columns:\n",
    "        convert_to_bool(bool_df, col)\n",
    "    return bool_df\n",
    "\n",
    "train_embd = convert_dataframe_to_bool(train_embd)"
   ]
  },
  {
   "cell_type": "markdown",
   "metadata": {},
   "source": [
    "# Spliting Data in Train and Test"
   ]
  },
  {
   "cell_type": "code",
   "execution_count": 21,
   "metadata": {},
   "outputs": [
    {
     "name": "stdout",
     "output_type": "stream",
     "text": [
      "1624386 train comments, 180488 validate comments 360975 test comments\n"
     ]
    }
   ],
   "source": [
    "num_classes=2\n",
    "\n",
    "train_df, test_df = model_selection.train_test_split(train_embd, test_size=0.2)\n",
    "train_df, validate_df = model_selection.train_test_split(train_embd, test_size=0.1)\n",
    "# convert to one hot encoing \n",
    "y_train = tf.keras.utils.to_categorical(train_df['target'], num_classes)\n",
    "y_test= tf.keras.utils.to_categorical(test_df['target'], num_classes)\n",
    "y_validate = tf.keras.utils.to_categorical(validate_df['target'], num_classes)\n",
    "\n",
    "print('%d train comments, %d validate comments %d test comments' % (len(train_df), len(validate_df),len(test_df)))"
   ]
  },
  {
   "cell_type": "code",
   "execution_count": 22,
   "metadata": {},
   "outputs": [
    {
     "data": {
      "text/plain": [
       "100"
      ]
     },
     "execution_count": 22,
     "metadata": {},
     "output_type": "execute_result"
    }
   ],
   "source": [
    "import gc\n",
    "\n",
    "#delete when no longer needed\n",
    "del train_embd\n",
    "#collect residual garbage\n",
    "gc.collect()"
   ]
  },
  {
   "cell_type": "markdown",
   "metadata": {},
   "source": [
    "## Create a text tokenizer"
   ]
  },
  {
   "cell_type": "code",
   "execution_count": 24,
   "metadata": {},
   "outputs": [],
   "source": [
    "\n",
    "\n",
    "\n",
    "MAX_NUM_WORDS = 10000\n",
    "TOXICITY_COLUMN = 'target'\n",
    "TEXT_COLUMN = 'comment_text'\n",
    "\n",
    "# Create a text tokenizer.\n",
    "tokenizer = Tokenizer(num_words=MAX_NUM_WORDS)\n",
    "tokenizer.fit_on_texts(train_df[TEXT_COLUMN])\n",
    "\n",
    "# All comments must be truncated or padded to be the same length.\n",
    "MAX_SEQUENCE_LENGTH = 250\n",
    "def pad_text(texts, tokenizer):\n",
    "    return pad_sequences(tokenizer.texts_to_sequences(texts), maxlen=MAX_SEQUENCE_LENGTH)\n",
    "\n",
    "X_train = pad_text(train_df[TEXT_COLUMN], tokenizer)\n",
    "X_test = pad_text(test_df[TEXT_COLUMN], tokenizer)\n",
    "X_validate = pad_text(validate_df[TEXT_COLUMN], tokenizer)"
   ]
  },
  {
   "cell_type": "code",
   "execution_count": 25,
   "metadata": {},
   "outputs": [
    {
     "data": {
      "text/plain": [
       "20"
      ]
     },
     "execution_count": 25,
     "metadata": {},
     "output_type": "execute_result"
    }
   ],
   "source": [
    "#delete when no longer needed\n",
    "del train_df\n",
    "#del test_df\n",
    "del validate_df\n",
    "#collect residual garbage\n",
    "gc.collect()"
   ]
  },
  {
   "cell_type": "code",
   "execution_count": 26,
   "metadata": {},
   "outputs": [
    {
     "name": "stdout",
     "output_type": "stream",
     "text": [
      "n unknown words (glove):  200094\n"
     ]
    }
   ],
   "source": [
    "EMBEDDINGS_DIMENSION = 300\n",
    "glove_matrix, unknown_words_glove = build_matrix(tokenizer.word_index, GLOVE_EMBEDDING_PATH)\n",
    "print('n unknown words (glove): ', len(unknown_words_glove))"
   ]
  },
  {
   "cell_type": "code",
   "execution_count": 27,
   "metadata": {},
   "outputs": [
    {
     "data": {
      "text/plain": [
       "(352864, 300)"
      ]
     },
     "execution_count": 27,
     "metadata": {},
     "output_type": "execute_result"
    }
   ],
   "source": [
    "glove_matrix.shape"
   ]
  },
  {
   "cell_type": "code",
   "execution_count": 28,
   "metadata": {},
   "outputs": [],
   "source": [
    "\n",
    "\n",
    "import pickle\n",
    "\n",
    "# saving\n",
    "with open('tokenizer_2_layer_CNN.pickle', 'wb') as handle:\n",
    "    pickle.dump(tokenizer, handle)\n",
    "\n",
    "# loading\n",
    "#with open('tokenizer.pickle', 'rb') as handle:\n",
    "#    tokenizer = pickle.load(handle)\n",
    "\n"
   ]
  },
  {
   "cell_type": "markdown",
   "metadata": {},
   "source": [
    "## 2 Layer LSTM Model 2"
   ]
  },
  {
   "cell_type": "code",
   "execution_count": 29,
   "metadata": {},
   "outputs": [],
   "source": [
    "def CNN_Model_get():\n",
    "        \"\"\"Returns (input_layer, output_layer)\"\"\"\n",
    "        input = Input(shape=(MAX_SEQUENCE_LENGTH,), dtype='int32')\n",
    "        embedding_layer = Embedding(len(tokenizer.word_index) + 1,\n",
    "                                    EMBEDDINGS_DIMENSION,\n",
    "                                    weights=[glove_matrix],\n",
    "                                    input_length=MAX_SEQUENCE_LENGTH,\n",
    "                                    trainable=False)\n",
    "        x = embedding_layer(input)\n",
    "        x = Conv1D(128, 2, activation='relu', padding='same')(x)\n",
    "        #x = MaxPooling1D(5, padding='same')(x)\n",
    "        x = Conv1D(128, 3, activation='relu', padding='same')(x)\n",
    "        x = MaxPooling1D(5, padding='same')(x)\n",
    "        x = Conv1D(128, 4, activation='relu', padding='same')(x)\n",
    "        x = MaxPooling1D(40, padding='same')(x)\n",
    "        x = Flatten()(x)\n",
    "        x = Dropout(0.3)(x)\n",
    "        x = Dense(128, activation='relu')(x)\n",
    "        output = Dense(2, activation='softmax')(x)\n",
    "        model = Model(inputs=input,outputs=output)\n",
    "        return model"
   ]
  },
  {
   "cell_type": "code",
   "execution_count": 30,
   "metadata": {},
   "outputs": [
    {
     "name": "stdout",
     "output_type": "stream",
     "text": [
      "Model: \"model\"\n",
      "_________________________________________________________________\n",
      "Layer (type)                 Output Shape              Param #   \n",
      "=================================================================\n",
      "input_1 (InputLayer)         [(None, 250)]             0         \n",
      "_________________________________________________________________\n",
      "embedding (Embedding)        (None, 250, 300)          105859200 \n",
      "_________________________________________________________________\n",
      "conv1d (Conv1D)              (None, 250, 128)          76928     \n",
      "_________________________________________________________________\n",
      "conv1d_1 (Conv1D)            (None, 250, 128)          49280     \n",
      "_________________________________________________________________\n",
      "max_pooling1d (MaxPooling1D) (None, 50, 128)           0         \n",
      "_________________________________________________________________\n",
      "conv1d_2 (Conv1D)            (None, 50, 128)           65664     \n",
      "_________________________________________________________________\n",
      "max_pooling1d_1 (MaxPooling1 (None, 2, 128)            0         \n",
      "_________________________________________________________________\n",
      "flatten (Flatten)            (None, 256)               0         \n",
      "_________________________________________________________________\n",
      "dropout (Dropout)            (None, 256)               0         \n",
      "_________________________________________________________________\n",
      "dense (Dense)                (None, 128)               32896     \n",
      "_________________________________________________________________\n",
      "dense_1 (Dense)              (None, 2)                 258       \n",
      "=================================================================\n",
      "Total params: 106,084,226\n",
      "Trainable params: 225,026\n",
      "Non-trainable params: 105,859,200\n",
      "_________________________________________________________________\n"
     ]
    }
   ],
   "source": [
    "np.random.seed(7)\n",
    "CNN_Model = CNN_Model_get()\n",
    "CNN_Model.summary()\n",
    "CNN_Model.compile(loss='categorical_crossentropy',optimizer=Adam(),metrics=['accuracy'])"
   ]
  },
  {
   "cell_type": "code",
   "execution_count": 31,
   "metadata": {},
   "outputs": [
    {
     "data": {
      "image/png": "[encoded data removed]",
      "text/plain": [
       "<IPython.core.display.Image object>"
      ]
     },
     "execution_count": 31,
     "metadata": {},
     "output_type": "execute_result"
    }
   ],
   "source": [
    "from tensorflow.keras.utils import plot_model\n",
    "\n",
    "plot_model(CNN_Model, 'CNN_1.png', show_shapes=True)"
   ]
  },
  {
   "cell_type": "code",
   "execution_count": 32,
   "metadata": {},
   "outputs": [
    {
     "name": "stdout",
     "output_type": "stream",
     "text": [
      "Epoch 1/40\n",
      "3173/3173 [==============================] - ETA: 0s - loss: 0.1518 - accuracy: 0.9448\n",
      "Epoch 00001: val_loss improved from inf to 0.14177, saving model to weights_2_layer_cnn.best.hdf5\n",
      "3173/3173 [==============================] - 205s 64ms/step - loss: 0.1518 - accuracy: 0.9448 - val_loss: 0.1418 - val_accuracy: 0.9455\n",
      "Epoch 2/40\n",
      "3172/3173 [============================>.] - ETA: 0s - loss: 0.1375 - accuracy: 0.9488\n",
      "Epoch 00002: val_loss improved from 0.14177 to 0.13617, saving model to weights_2_layer_cnn.best.hdf5\n",
      "3173/3173 [==============================] - 203s 64ms/step - loss: 0.1375 - accuracy: 0.9488 - val_loss: 0.1362 - val_accuracy: 0.9489\n",
      "Epoch 3/40\n",
      "3172/3173 [============================>.] - ETA: 0s - loss: 0.1337 - accuracy: 0.9499\n",
      "Epoch 00003: val_loss improved from 0.13617 to 0.13573, saving model to weights_2_layer_cnn.best.hdf5\n",
      "3173/3173 [==============================] - 203s 64ms/step - loss: 0.1337 - accuracy: 0.9499 - val_loss: 0.1357 - val_accuracy: 0.9489\n",
      "Epoch 4/40\n",
      "3172/3173 [============================>.] - ETA: 0s - loss: 0.1156 - accuracy: 0.9547\n",
      "Epoch 00010: val_loss did not improve from 0.13489\n",
      "3173/3173 [==============================] - 201s 63ms/step - loss: 0.1156 - accuracy: 0.9547 - val_loss: 0.1398 - val_accuracy: 0.9484\n",
      "Epoch 11/40\n",
      "3172/3173 [============================>.] - ETA: 0s - loss: 0.1010 - accuracy: 0.9590\n",
      "Epoch 00017: val_loss did not improve from 0.13489\n",
      "3173/3173 [==============================] - 201s 63ms/step - loss: 0.1010 - accuracy: 0.9590 - val_loss: 0.1545 - val_accuracy: 0.9465\n",
      "Epoch 18/40\n",
      "3172/3173 [============================>.] - ETA: 0s - loss: 0.0932 - accuracy: 0.9619\n",
      "Epoch 00022: val_loss did not improve from 0.13489\n",
      "3173/3173 [==============================] - 200s 63ms/step - loss: 0.0932 - accuracy: 0.9619 - val_loss: 0.1641 - val_accuracy: 0.9454\n",
      "Epoch 23/40\n",
      "3172/3173 [============================>.] - ETA: 0s - loss: 0.0813 - accuracy: 0.9663\n",
      "Epoch 00032: val_loss did not improve from 0.13489\n",
      "3173/3173 [==============================] - 200s 63ms/step - loss: 0.0813 - accuracy: 0.9663 - val_loss: 0.1896 - val_accuracy: 0.9433\n",
      "Epoch 33/40\n",
      "1680/3173 [==============>...............] - ETA: 1:27 - loss: 0.0721 - accuracy: 0.9699"
     ]
    }
   ],
   "source": [
    "#https://www.kaggle.com/yuliagm/how-to-work-with-big-datasets-on-16g-ram-dask\n",
    "# checkpoint\n",
    "# Configure the TensorBoard callback and fit your model\n",
    "\n",
    "#tensorboard_callback = tf.keras.callbacks.TensorBoard(\"logs\")\n",
    "\n",
    "filepath=\"weights_2_layer_cnn.best.hdf5\"\n",
    "checkpoint = ModelCheckpoint(filepath, monitor='val_loss', verbose=1, save_best_only=True, mode='min')\n",
    "\n",
    "callbacks_list = [checkpoint]    \n",
    "\n",
    "history=CNN_Model.fit(X_train, y_train, verbose=1,epochs=40,validation_data=(X_validate, y_validate) ,batch_size=512,callbacks=callbacks_list)"
   ]
  },
  {
   "cell_type": "code",
   "execution_count": 33,
   "metadata": {},
   "outputs": [
    {
     "data": {
      "text/plain": [
       "{'loss': [0.15182581543922424,\n",
       "  0.13748373091220856,\n",
       "  0.13368795812129974,\n",
       "  0.1306769847869873,\n",
       "  0.1280343234539032,\n",
       "  0.12533801794052124,\n",
       "  0.12287233769893646,\n",
       "  0.12040245532989502,\n",
       "  0.11789199709892273,\n",
       "  0.1155644953250885,\n",
       "  0.11331085115671158,\n",
       "  0.11102348566055298,\n",
       "  0.10879358649253845,\n",
       "  0.10675350576639175,\n",
       "  0.10463821142911911,\n",
       "  0.1027940884232521,\n",
       "  0.10101158171892166,\n",
       "  0.0992208942770958,\n",
       "  0.09751275181770325,\n",
       "  0.0959380567073822,\n",
       "  0.09427259862422943,\n",
       "  0.0931740552186966,\n",
       "  0.09142904728651047,\n",
       "  0.0903456062078476,\n",
       "  0.0891958549618721,\n",
       "  0.08772309124469757,\n",
       "  0.08666502684354782,\n",
       "  0.08539296686649323,\n",
       "  0.0844949334859848,\n",
       "  0.08340580016374588,\n",
       "  0.08198095858097076,\n",
       "  0.08127135038375854,\n",
       "  0.08034386485815048,\n",
       "  0.07949107140302658,\n",
       "  0.0786871463060379,\n",
       "  0.07758113741874695,\n",
       "  0.0765882059931755,\n",
       "  0.07604076713323593,\n",
       "  0.075433149933815,\n",
       "  0.07458730787038803],\n",
       " 'accuracy': [0.9447926878929138,\n",
       "  0.9487873911857605,\n",
       "  0.9498770833015442,\n",
       "  0.9507758617401123,\n",
       "  0.9514389038085938,\n",
       "  0.9521505236625671,\n",
       "  0.9528505206108093,\n",
       "  0.9535159468650818,\n",
       "  0.9540768265724182,\n",
       "  0.9546678066253662,\n",
       "  0.9554718136787415,\n",
       "  0.9561471343040466,\n",
       "  0.9567947387695312,\n",
       "  0.9574017524719238,\n",
       "  0.9580247402191162,\n",
       "  0.9585400223731995,\n",
       "  0.9590485095977783,\n",
       "  0.9595847129821777,\n",
       "  0.9603068232536316,\n",
       "  0.9607260823249817,\n",
       "  0.9612573385238647,\n",
       "  0.961861252784729,\n",
       "  0.9623931646347046,\n",
       "  0.9628511667251587,\n",
       "  0.9631374478340149,\n",
       "  0.9637376666069031,\n",
       "  0.9642418622970581,\n",
       "  0.9645509123802185,\n",
       "  0.9650064706802368,\n",
       "  0.965442955493927,\n",
       "  0.9659625291824341,\n",
       "  0.966312825679779,\n",
       "  0.9666520357131958,\n",
       "  0.966949999332428,\n",
       "  0.9671709537506104,\n",
       "  0.9678598642349243,\n",
       "  0.9682735800743103,\n",
       "  0.9683985114097595,\n",
       "  0.9686152338981628,\n",
       "  0.9689199328422546],\n",
       " 'val_loss': [0.14176809787750244,\n",
       "  0.13617479801177979,\n",
       "  0.1357303261756897,\n",
       "  0.13504500687122345,\n",
       "  0.1348879635334015,\n",
       "  0.13565920293331146,\n",
       "  0.13665279746055603,\n",
       "  0.13657933473587036,\n",
       "  0.13714593648910522,\n",
       "  0.13979855179786682,\n",
       "  0.14068129658699036,\n",
       "  0.1409318894147873,\n",
       "  0.14622831344604492,\n",
       "  0.1448241025209427,\n",
       "  0.14809606969356537,\n",
       "  0.15585319697856903,\n",
       "  0.15452253818511963,\n",
       "  0.1551516205072403,\n",
       "  0.15682068467140198,\n",
       "  0.1598164439201355,\n",
       "  0.16013140976428986,\n",
       "  0.16409797966480255,\n",
       "  0.16873328387737274,\n",
       "  0.16979354619979858,\n",
       "  0.17004038393497467,\n",
       "  0.18558107316493988,\n",
       "  0.17062008380889893,\n",
       "  0.17806516587734222,\n",
       "  0.19259761273860931,\n",
       "  0.18897800147533417,\n",
       "  0.19296389818191528,\n",
       "  0.18955521285533905,\n",
       "  0.19182637333869934,\n",
       "  0.18807342648506165,\n",
       "  0.19626925885677338,\n",
       "  0.1977214813232422,\n",
       "  0.19722190499305725,\n",
       "  0.2019399106502533,\n",
       "  0.2022918164730072,\n",
       "  0.20530018210411072],\n",
       " 'val_accuracy': [0.9455088376998901,\n",
       "  0.9489107131958008,\n",
       "  0.9489107131958008,\n",
       "  0.9491766691207886,\n",
       "  0.9491877555847168,\n",
       "  0.9490714073181152,\n",
       "  0.9492043852806091,\n",
       "  0.9490880370140076,\n",
       "  0.9485284090042114,\n",
       "  0.9484342336654663,\n",
       "  0.9481461644172668,\n",
       "  0.947913408279419,\n",
       "  0.9478469491004944,\n",
       "  0.9475754499435425,\n",
       "  0.9479743838310242,\n",
       "  0.9471156001091003,\n",
       "  0.9465283155441284,\n",
       "  0.946317732334137,\n",
       "  0.9462623596191406,\n",
       "  0.9469549059867859,\n",
       "  0.9462180137634277,\n",
       "  0.945414662361145,\n",
       "  0.9465836882591248,\n",
       "  0.945326030254364,\n",
       "  0.9449824690818787,\n",
       "  0.9455143809318542,\n",
       "  0.9452373385429382,\n",
       "  0.9438300728797913,\n",
       "  0.9449160099029541,\n",
       "  0.944860577583313,\n",
       "  0.9450212717056274,\n",
       "  0.9432759881019592,\n",
       "  0.9438577890396118,\n",
       "  0.940937876701355,\n",
       "  0.9436361193656921,\n",
       "  0.9438467025756836,\n",
       "  0.9422066807746887,\n",
       "  0.9422066807746887,\n",
       "  0.9435696601867676,\n",
       "  0.9428161382675171]}"
      ]
     },
     "execution_count": 33,
     "metadata": {},
     "output_type": "execute_result"
    }
   ],
   "source": [
    "history.history"
   ]
  },
  {
   "cell_type": "code",
   "execution_count": 34,
   "metadata": {},
   "outputs": [
    {
     "data": {
      "image/png": "[encoded data removed]",
      "text/plain": [
       "<Figure size 432x288 with 1 Axes>"
      ]
     },
     "metadata": {
      "needs_background": "light"
     },
     "output_type": "display_data"
    }
   ],
   "source": [
    "loss_train = history.history['loss']\n",
    "loss_val = history.history['val_loss']\n",
    "#epochs = np.range(1,1)\n",
    "plt.plot(loss_train, 'g', label='Training loss')\n",
    "plt.plot(loss_val, 'b', label='validation loss')\n",
    "plt.title('Training and Validation loss')\n",
    "plt.xlabel('Epochs')\n",
    "plt.ylabel('Loss')\n",
    "plt.legend()\n",
    "plt.show()"
   ]
  },
  {
   "cell_type": "code",
   "execution_count": 35,
   "metadata": {},
   "outputs": [
    {
     "data": {
      "image/png": "[encoded data removed]",
      "text/plain": [
       "<Figure size 432x288 with 1 Axes>"
      ]
     },
     "metadata": {
      "needs_background": "light"
     },
     "output_type": "display_data"
    }
   ],
   "source": [
    "loss_train = history.history['accuracy']\n",
    "loss_val = history.history['val_accuracy']\n",
    "epochs = range(1,41)\n",
    "plt.plot(loss_train, 'g', label='Training accuracy')\n",
    "plt.plot(loss_val, 'b', label='validation accuracy')\n",
    "plt.title('Training and Validation accuracy')\n",
    "plt.xlabel('Epochs')\n",
    "plt.ylabel('Accuracy')\n",
    "plt.legend()\n",
    "plt.show()"
   ]
  },
  {
   "cell_type": "code",
   "execution_count": 36,
   "metadata": {},
   "outputs": [
    {
     "name": "stdout",
     "output_type": "stream",
     "text": [
      "0.9848995302217435\n"
     ]
    }
   ],
   "source": [
    "#new_model2 = tf.keras.models.load_model('/content/gdrive/My Drive/Checkpoints/Self Case Study 1/CNN LSTM Model 1/saved_model2')\n",
    "from sklearn.metrics import roc_auc_score\n",
    "predict_y = CNN_Model.predict(X_test)\n",
    "print(roc_auc_score(test_df['target'].values, predict_y[:,1]))"
   ]
  },
  {
   "cell_type": "code",
   "execution_count": 37,
   "metadata": {},
   "outputs": [
    {
     "data": {
      "text/html": [
       "<div>\n",
       "<style scoped>\n",
       "    .dataframe tbody tr th:only-of-type {\n",
       "        vertical-align: middle;\n",
       "    }\n",
       "\n",
       "    .dataframe tbody tr th {\n",
       "        vertical-align: top;\n",
       "    }\n",
       "\n",
       "    .dataframe thead th {\n",
       "        text-align: right;\n",
       "    }\n",
       "</style>\n",
       "<table border=\"1\" class=\"dataframe\">\n",
       "  <thead>\n",
       "    <tr style=\"text-align: right;\">\n",
       "      <th></th>\n",
       "      <th>subgroup</th>\n",
       "      <th>subgroup_size</th>\n",
       "      <th>subgroup_auc</th>\n",
       "      <th>bpsn_auc</th>\n",
       "      <th>bnsp_auc</th>\n",
       "    </tr>\n",
       "  </thead>\n",
       "  <tbody>\n",
       "    <tr>\n",
       "      <th>2</th>\n",
       "      <td>homosexual_gay_or_lesbian</td>\n",
       "      <td>2204</td>\n",
       "      <td>0.938054</td>\n",
       "      <td>0.943891</td>\n",
       "      <td>0.984833</td>\n",
       "    </tr>\n",
       "    <tr>\n",
       "      <th>6</th>\n",
       "      <td>black</td>\n",
       "      <td>3014</td>\n",
       "      <td>0.947119</td>\n",
       "      <td>0.941781</td>\n",
       "      <td>0.987152</td>\n",
       "    </tr>\n",
       "    <tr>\n",
       "      <th>7</th>\n",
       "      <td>white</td>\n",
       "      <td>4910</td>\n",
       "      <td>0.947451</td>\n",
       "      <td>0.941858</td>\n",
       "      <td>0.988140</td>\n",
       "    </tr>\n",
       "    <tr>\n",
       "      <th>5</th>\n",
       "      <td>muslim</td>\n",
       "      <td>4298</td>\n",
       "      <td>0.957887</td>\n",
       "      <td>0.960345</td>\n",
       "      <td>0.984809</td>\n",
       "    </tr>\n",
       "    <tr>\n",
       "      <th>4</th>\n",
       "      <td>jewish</td>\n",
       "      <td>1553</td>\n",
       "      <td>0.964186</td>\n",
       "      <td>0.969199</td>\n",
       "      <td>0.984431</td>\n",
       "    </tr>\n",
       "    <tr>\n",
       "      <th>0</th>\n",
       "      <td>male</td>\n",
       "      <td>8935</td>\n",
       "      <td>0.968409</td>\n",
       "      <td>0.971104</td>\n",
       "      <td>0.983712</td>\n",
       "    </tr>\n",
       "    <tr>\n",
       "      <th>1</th>\n",
       "      <td>female</td>\n",
       "      <td>10769</td>\n",
       "      <td>0.969702</td>\n",
       "      <td>0.972226</td>\n",
       "      <td>0.984241</td>\n",
       "    </tr>\n",
       "    <tr>\n",
       "      <th>8</th>\n",
       "      <td>psychiatric_or_mental_illness</td>\n",
       "      <td>980</td>\n",
       "      <td>0.978058</td>\n",
       "      <td>0.975454</td>\n",
       "      <td>0.984970</td>\n",
       "    </tr>\n",
       "    <tr>\n",
       "      <th>3</th>\n",
       "      <td>christian</td>\n",
       "      <td>8206</td>\n",
       "      <td>0.980482</td>\n",
       "      <td>0.982122</td>\n",
       "      <td>0.983889</td>\n",
       "    </tr>\n",
       "  </tbody>\n",
       "</table>\n",
       "</div>"
      ],
      "text/plain": [
       "                        subgroup  subgroup_size  subgroup_auc  bpsn_auc  \\\n",
       "2      homosexual_gay_or_lesbian           2204      0.938054  0.943891   \n",
       "6                          black           3014      0.947119  0.941781   \n",
       "7                          white           4910      0.947451  0.941858   \n",
       "5                         muslim           4298      0.957887  0.960345   \n",
       "4                         jewish           1553      0.964186  0.969199   \n",
       "0                           male           8935      0.968409  0.971104   \n",
       "1                         female          10769      0.969702  0.972226   \n",
       "8  psychiatric_or_mental_illness            980      0.978058  0.975454   \n",
       "3                      christian           8206      0.980482  0.982122   \n",
       "\n",
       "   bnsp_auc  \n",
       "2  0.984833  \n",
       "6  0.987152  \n",
       "7  0.988140  \n",
       "5  0.984809  \n",
       "4  0.984431  \n",
       "0  0.983712  \n",
       "1  0.984241  \n",
       "8  0.984970  \n",
       "3  0.983889  "
      ]
     },
     "execution_count": 37,
     "metadata": {},
     "output_type": "execute_result"
    }
   ],
   "source": [
    "predict_y = CNN_Model.predict(X_test)\n",
    "MODEL_NAME = 'CNN_Model'\n",
    "test_df[MODEL_NAME] = list(predict_y[:,1])\n",
    "bias_metrics_df = compute_bias_metrics_for_model(test_df, identity_columns, MODEL_NAME, TOXICITY_COLUMN)\n",
    "bias_metrics_df"
   ]
  },
  {
   "cell_type": "code",
   "execution_count": 38,
   "metadata": {},
   "outputs": [
    {
     "data": {
      "text/plain": [
       "0.9729976527246499"
      ]
     },
     "execution_count": 38,
     "metadata": {},
     "output_type": "execute_result"
    }
   ],
   "source": [
    "CNN_model_Model_1=get_final_metric(bias_metrics_df, calculate_overall_auc(test_df, MODEL_NAME))\n",
    "CNN_model_Model_1"
   ]
  },
  {
   "cell_type": "markdown",
   "metadata": {},
   "source": [
    "# Submit"
   ]
  },
  {
   "cell_type": "code",
   "execution_count": 39,
   "metadata": {},
   "outputs": [],
   "source": [
    "test_embd = pd.read_csv('../input/jigshwpreprocesseddata/test_sub.csv', sep=',', quotechar='\"')\n",
    "test_embd['comment_text'] = test_embd['comment_text'].astype(str)\n",
    "X_test_sub = pad_text(test_embd['comment_text'], tokenizer)\n",
    "predict_y = CNN_Model.predict(X_test_sub)\n",
    "test_embd['prediction'] = list(predict_y[:,1])"
   ]
  },
  {
   "cell_type": "code",
   "execution_count": 40,
   "metadata": {},
   "outputs": [],
   "source": [
    "submission = pd.DataFrame.from_dict({\n",
    "    'id': test_embd['id'],\n",
    "    'prediction': list(predict_y[:,1])\n",
    "})"
   ]
  },
  {
   "cell_type": "code",
   "execution_count": 41,
   "metadata": {},
   "outputs": [
    {
     "data": {
      "text/html": [
       "<div>\n",
       "<style scoped>\n",
       "    .dataframe tbody tr th:only-of-type {\n",
       "        vertical-align: middle;\n",
       "    }\n",
       "\n",
       "    .dataframe tbody tr th {\n",
       "        vertical-align: top;\n",
       "    }\n",
       "\n",
       "    .dataframe thead th {\n",
       "        text-align: right;\n",
       "    }\n",
       "</style>\n",
       "<table border=\"1\" class=\"dataframe\">\n",
       "  <thead>\n",
       "    <tr style=\"text-align: right;\">\n",
       "      <th></th>\n",
       "      <th>id</th>\n",
       "      <th>prediction</th>\n",
       "    </tr>\n",
       "  </thead>\n",
       "  <tbody>\n",
       "    <tr>\n",
       "      <th>0</th>\n",
       "      <td>7097320</td>\n",
       "      <td>4.749170e-07</td>\n",
       "    </tr>\n",
       "    <tr>\n",
       "      <th>1</th>\n",
       "      <td>7097321</td>\n",
       "      <td>1.103860e-02</td>\n",
       "    </tr>\n",
       "    <tr>\n",
       "      <th>2</th>\n",
       "      <td>7097322</td>\n",
       "      <td>3.048548e-05</td>\n",
       "    </tr>\n",
       "    <tr>\n",
       "      <th>3</th>\n",
       "      <td>7097323</td>\n",
       "      <td>3.097666e-09</td>\n",
       "    </tr>\n",
       "    <tr>\n",
       "      <th>4</th>\n",
       "      <td>7097324</td>\n",
       "      <td>1.333274e-08</td>\n",
       "    </tr>\n",
       "  </tbody>\n",
       "</table>\n",
       "</div>"
      ],
      "text/plain": [
       "        id    prediction\n",
       "0  7097320  4.749170e-07\n",
       "1  7097321  1.103860e-02\n",
       "2  7097322  3.048548e-05\n",
       "3  7097323  3.097666e-09\n",
       "4  7097324  1.333274e-08"
      ]
     },
     "execution_count": 41,
     "metadata": {},
     "output_type": "execute_result"
    }
   ],
   "source": [
    "submission.head()"
   ]
  },
  {
   "cell_type": "code",
   "execution_count": 42,
   "metadata": {},
   "outputs": [],
   "source": [
    "submission.to_csv('submission.csv', index=False)"
   ]
  },
  {
   "cell_type": "markdown",
   "metadata": {},
   "source": [
    "## **AUC Score on Test Data is 0.9823**\n",
    "## **Evaluation Metric Score on Test Data is 0.9715**\n",
    "## **Kaggle Score for submission test file on Private leaderboard: 0.86595**<br>\n",
    "<img src=\"https://i.ibb.co/XYVgrmW/cnn-2-layer.png\" alt=\"cnn-2-layer\" border=\"0\">"
   ]
  },
  {
   "cell_type": "code",
   "execution_count": null,
   "metadata": {},
   "outputs": [],
   "source": []
  }
 ],
 "metadata": {
  "kernelspec": {
   "display_name": "Python 3",
   "language": "python",
   "name": "python3"
  },
  "language_info": {
   "codemirror_mode": {
    "name": "ipython",
    "version": 3
   },
   "file_extension": ".py",
   "mimetype": "text/x-python",
   "name": "python",
   "nbconvert_exporter": "python",
   "pygments_lexer": "ipython3",
   "version": "3.6.9"
  }
 },
 "nbformat": 4,
 "nbformat_minor": 4
}
